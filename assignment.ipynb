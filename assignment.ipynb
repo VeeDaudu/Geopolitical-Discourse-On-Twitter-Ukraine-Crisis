{
 "cells": [
  {
   "cell_type": "markdown",
   "metadata": {},
   "source": [
    "# Import"
   ]
  },
  {
   "cell_type": "code",
   "execution_count": 1,
   "metadata": {},
   "outputs": [],
   "source": [
    "import pandas as pd\n",
    "import json\n",
    "from pprint import pprint\n",
    "import pickle"
   ]
  },
  {
   "cell_type": "code",
   "execution_count": 5,
   "metadata": {},
   "outputs": [],
   "source": [
    "world = pd.read_csv('./world-cities.csv')"
   ]
  },
  {
   "cell_type": "code",
   "execution_count": 6,
   "metadata": {},
   "outputs": [
    {
     "data": {
      "text/html": [
       "<div>\n",
       "<style scoped>\n",
       "    .dataframe tbody tr th:only-of-type {\n",
       "        vertical-align: middle;\n",
       "    }\n",
       "\n",
       "    .dataframe tbody tr th {\n",
       "        vertical-align: top;\n",
       "    }\n",
       "\n",
       "    .dataframe thead th {\n",
       "        text-align: right;\n",
       "    }\n",
       "</style>\n",
       "<table border=\"1\" class=\"dataframe\">\n",
       "  <thead>\n",
       "    <tr style=\"text-align: right;\">\n",
       "      <th></th>\n",
       "      <th>name</th>\n",
       "      <th>country</th>\n",
       "      <th>subcountry</th>\n",
       "      <th>geonameid</th>\n",
       "    </tr>\n",
       "  </thead>\n",
       "  <tbody>\n",
       "    <tr>\n",
       "      <th>2465</th>\n",
       "      <td>London</td>\n",
       "      <td>Canada</td>\n",
       "      <td>Ontario</td>\n",
       "      <td>6058560</td>\n",
       "    </tr>\n",
       "    <tr>\n",
       "      <th>7530</th>\n",
       "      <td>London</td>\n",
       "      <td>United Kingdom</td>\n",
       "      <td>England</td>\n",
       "      <td>2643743</td>\n",
       "    </tr>\n",
       "  </tbody>\n",
       "</table>\n",
       "</div>"
      ],
      "text/plain": [
       "        name         country subcountry  geonameid\n",
       "2465  London          Canada    Ontario    6058560\n",
       "7530  London  United Kingdom    England    2643743"
      ]
     },
     "execution_count": 6,
     "metadata": {},
     "output_type": "execute_result"
    }
   ],
   "source": [
    "world[world['name'] == 'London']"
   ]
  },
  {
   "cell_type": "code",
   "execution_count": 7,
   "metadata": {},
   "outputs": [],
   "source": [
    "world_countries = list(set(world['country'].tolist()))"
   ]
  },
  {
   "cell_type": "code",
   "execution_count": 8,
   "metadata": {},
   "outputs": [],
   "source": [
    "df = pd.read_csv('./data.csv', header=None)"
   ]
  },
  {
   "cell_type": "code",
   "execution_count": 9,
   "metadata": {},
   "outputs": [],
   "source": [
    "df_countries = df[3].values.tolist()\n",
    "new_names = []\n",
    "for country in df_countries:\n",
    "    if country == 'UK':\n",
    "        new_names.append('United Kingdom')\n",
    "    elif not type(country) == str:\n",
    "        new_names.append('')\n",
    "    elif country == 'USA':\n",
    "        new_names.append('United States')\n",
    "    elif len(country.split(' ')) > 2:\n",
    "        new_names.append('')\n",
    "    else:\n",
    "        new_names.append(country)"
   ]
  },
  {
   "cell_type": "code",
   "execution_count": 12,
   "metadata": {},
   "outputs": [],
   "source": [
    "countries_processed = []\n",
    "for entry in pd.Series(new_names).value_counts().iteritems():\n",
    "    if entry[1] > 5 and entry[0] != '':\n",
    "        countries_processed.append(entry[0])\n"
   ]
  },
  {
   "cell_type": "code",
   "execution_count": 13,
   "metadata": {},
   "outputs": [
    {
     "data": {
      "text/plain": [
       "['United Kingdom',\n",
       " 'Ukraine',\n",
       " 'London',\n",
       " 'United States',\n",
       " 'Everywhere',\n",
       " 'London, England',\n",
       " 'India',\n",
       " 'Tokyo, Japan',\n",
       " 'Brussels',\n",
       " 'Washington, DC',\n",
       " 'World',\n",
       " 'Україна',\n",
       " 'Almere, Nederland',\n",
       " 'Kyiv',\n",
       " 'Planet Earth',\n",
       " 'Europe',\n",
       " 'Kyiv, Ukraine',\n",
       " 'Internet',\n",
       " 'Germany',\n",
       " 'Global',\n",
       " 'Australia',\n",
       " 'Украина',\n",
       " 'New York',\n",
       " 'Ireland',\n",
       " 'Diksmuide, België',\n",
       " 'London, UK',\n",
       " 'Canada',\n",
       " 'Washington, D.C.',\n",
       " 'Hartford, CT',\n",
       " 'Kiev',\n",
       " 'Brussels, Belgium',\n",
       " 'Mumbai, India',\n",
       " 'Northeast U.S.',\n",
       " 'Earth',\n",
       " 'Ukraine ',\n",
       " 'Delhi, India',\n",
       " 'Davie, FL',\n",
       " 'Turkey',\n",
       " 'New Delhi',\n",
       " 'Québec, Canada',\n",
       " 'Pennsylvania',\n",
       " 'h̤͓̺̲͢͡è̷̶͔͔̲̪̯ľ̺͚̬̞͓̇̃͗͏̡̀l',\n",
       " 'global',\n",
       " 'Africa',\n",
       " 'Netherlands',\n",
       " 'Odessa, Ukraine',\n",
       " 'Kampala',\n",
       " 'Helsinki, Finland',\n",
       " 'Norway',\n",
       " 'Berlin',\n",
       " 'California, USA',\n",
       " 'Athens Greece',\n",
       " 'Singapore',\n",
       " 'Early, TX',\n",
       " 'Washington DC',\n",
       " 'Berlin, Germany',\n",
       " 'Nottingham, England',\n",
       " 'Canada ',\n",
       " 'New Jersey',\n",
       " 'Worldwide',\n",
       " 'The Netherlands',\n",
       " 'Sweden',\n",
       " 'Pakistan',\n",
       " 'Scotland',\n",
       " 'Marbella, Spain',\n",
       " 'Istanbul',\n",
       " 'Uganda',\n",
       " 'Chicago',\n",
       " 'Florida, USA',\n",
       " 'Paris, France',\n",
       " ' USA',\n",
       " 'Thinkstan',\n",
       " 'Russia',\n",
       " 'New Zealand',\n",
       " 'EU ',\n",
       " 'U.S.A',\n",
       " 'Warszawa, Polska',\n",
       " 'England',\n",
       " 'Amsterdam',\n",
       " 'Lagos, Nigeria']"
      ]
     },
     "execution_count": 13,
     "metadata": {},
     "output_type": "execute_result"
    }
   ],
   "source": [
    "countries_processed"
   ]
  },
  {
   "cell_type": "code",
   "execution_count": 16,
   "metadata": {},
   "outputs": [],
   "source": [
    "countries_map = {'London': 'United Kingdom', \n",
    "                'London, England': 'United Kingdom', \n",
    "                'Almere, Nederland': 'United Kingdom', \n",
    "                'England': 'United Kingdom', \n",
    "                'Russia': 'United Kingdom', \n",
    "                'Sweden': 'United Kingdom', \n",
    "                'EU ': 'United Kingdom', \n",
    "                'Ireland': 'United Kingdom', \n",
    "                'Marbella, Spain': 'United Kingdom', \n",
    "                'Scotland': 'United Kingdom', \n",
    "                'Europe': 'United Kingdom', \n",
    "                'Amsterdam': 'United Kingdom', \n",
    "                'Istanbul': 'United Kingdom', \n",
    "                'Berlin': 'United Kingdom', \n",
    "                'The Netherlands': 'United Kingdom', \n",
    "                'Germany': 'United Kingdom', \n",
    "                'Washington, DC': 'United States', \n",
    "                'Washington, D.C.': 'United States', \n",
    "                'U.S.A': 'United States', \n",
    "                'Chicago': 'United States', \n",
    "                'Florida, USA': 'United States', \n",
    "                'Early, TX': 'United States', \n",
    "                'California, USA': 'United States', \n",
    "                'Washington DC': 'United States', \n",
    "                ' USA': 'United States', \n",
    "                'New Jersey': 'United States', \n",
    "                'Hartford, CT': 'United States', \n",
    "                'Northeast U.S': 'United States', \n",
    "                'Україна': 'Ukraine',\n",
    "                'Kyiv': 'Ukraine',\n",
    "                'Kiev': 'Ukraine',\n",
    "                'Kyiv, Ukraine': 'Ukraine',\n",
    "                'Украина': 'Ukraine',\n",
    "                'New York': 'United States',\n",
    "                'United States': 'United States',\n",
    "                'USA': 'United States',\n",
    "                'UK': 'United Kingdom',\n",
    "                'United Kingdom': 'United Kingdom',\n",
    "                'London, UK': 'United Kingdom',\n",
    "                'Everywhere': 'Everywhere',\n",
    "                'Planet Earth': 'Everywhere',\n",
    "                'Global': 'Everywhere',\n",
    "                'Brussels': 'United Kingdom',\n",
    "                'India': 'India',\n",
    "                'Pakistan': 'India',\n",
    "                'New Delhi': 'India',\n",
    "                'Delhi, India': 'India',\n",
    "                'Delhi, India': 'India',\n",
    "                'Lagos, Nigeria': 'Africa',\n",
    "                'Uganda': 'Africa',\n",
    "                'Africa': 'Africa',\n",
    "                'Mumbai, India': 'India'}"
   ]
  },
  {
   "cell_type": "code",
   "execution_count": 17,
   "metadata": {},
   "outputs": [],
   "source": [
    "continents_map = {'United Kingdom': 'Europe',\n",
    "                'United States': 'USA',\n",
    "                'Ukraine' : 'Europe',\n",
    "                'India' : 'Middle East',\n",
    "                'Africa': 'Africa'\n",
    "                }"
   ]
  },
  {
   "cell_type": "code",
   "execution_count": 18,
   "metadata": {},
   "outputs": [],
   "source": [
    "df['countries'] = df[3].map(countries_map)\n",
    "df['topics'] = df['countries'].map(continents_map)"
   ]
  },
  {
   "cell_type": "code",
   "execution_count": 19,
   "metadata": {},
   "outputs": [],
   "source": [
    "df_clean_countries = df[df['topics'].notna()] "
   ]
  },
  {
   "cell_type": "code",
   "execution_count": 20,
   "metadata": {},
   "outputs": [
    {
     "data": {
      "text/html": [
       "<div>\n",
       "<style scoped>\n",
       "    .dataframe tbody tr th:only-of-type {\n",
       "        vertical-align: middle;\n",
       "    }\n",
       "\n",
       "    .dataframe tbody tr th {\n",
       "        vertical-align: top;\n",
       "    }\n",
       "\n",
       "    .dataframe thead th {\n",
       "        text-align: right;\n",
       "    }\n",
       "</style>\n",
       "<table border=\"1\" class=\"dataframe\">\n",
       "  <thead>\n",
       "    <tr style=\"text-align: right;\">\n",
       "      <th></th>\n",
       "      <th>0</th>\n",
       "      <th>1</th>\n",
       "      <th>2</th>\n",
       "      <th>3</th>\n",
       "      <th>4</th>\n",
       "      <th>5</th>\n",
       "      <th>countries</th>\n",
       "      <th>topics</th>\n",
       "    </tr>\n",
       "  </thead>\n",
       "  <tbody>\n",
       "    <tr>\n",
       "      <th>22</th>\n",
       "      <td>1.560000e+18</td>\n",
       "      <td>2022-08-17 13:04:30+00:00</td>\n",
       "      <td>Multiple explosions shook a #russianlosses mil...</td>\n",
       "      <td>USA</td>\n",
       "      <td>0</td>\n",
       "      <td>0</td>\n",
       "      <td>United States</td>\n",
       "      <td>USA</td>\n",
       "    </tr>\n",
       "    <tr>\n",
       "      <th>25</th>\n",
       "      <td>1.560000e+18</td>\n",
       "      <td>2022-08-17 12:59:33+00:00</td>\n",
       "      <td>This is not just about German policy versus Ru...</td>\n",
       "      <td>USA</td>\n",
       "      <td>0</td>\n",
       "      <td>0</td>\n",
       "      <td>United States</td>\n",
       "      <td>USA</td>\n",
       "    </tr>\n",
       "    <tr>\n",
       "      <th>27</th>\n",
       "      <td>1.560000e+18</td>\n",
       "      <td>2022-08-17 12:59:28+00:00</td>\n",
       "      <td>How emotional from the #UKRAINE swimmer who wo...</td>\n",
       "      <td>USA</td>\n",
       "      <td>0</td>\n",
       "      <td>0</td>\n",
       "      <td>United States</td>\n",
       "      <td>USA</td>\n",
       "    </tr>\n",
       "    <tr>\n",
       "      <th>29</th>\n",
       "      <td>1.560000e+18</td>\n",
       "      <td>2022-08-17 12:59:17+00:00</td>\n",
       "      <td>We've seen such photos a lot during the Syrian...</td>\n",
       "      <td>USA</td>\n",
       "      <td>0</td>\n",
       "      <td>0</td>\n",
       "      <td>United States</td>\n",
       "      <td>USA</td>\n",
       "    </tr>\n",
       "    <tr>\n",
       "      <th>30</th>\n",
       "      <td>1.560000e+18</td>\n",
       "      <td>2022-08-17 12:58:14+00:00</td>\n",
       "      <td>The West's outcry about #Abbas remarks is amus...</td>\n",
       "      <td>USA</td>\n",
       "      <td>0</td>\n",
       "      <td>0</td>\n",
       "      <td>United States</td>\n",
       "      <td>USA</td>\n",
       "    </tr>\n",
       "    <tr>\n",
       "      <th>...</th>\n",
       "      <td>...</td>\n",
       "      <td>...</td>\n",
       "      <td>...</td>\n",
       "      <td>...</td>\n",
       "      <td>...</td>\n",
       "      <td>...</td>\n",
       "      <td>...</td>\n",
       "      <td>...</td>\n",
       "    </tr>\n",
       "    <tr>\n",
       "      <th>4942</th>\n",
       "      <td>1.560000e+18</td>\n",
       "      <td>2022-08-17 01:25:11+00:00</td>\n",
       "      <td>It was great to be able to support @TovaOBrien...</td>\n",
       "      <td>Washington, DC</td>\n",
       "      <td>1</td>\n",
       "      <td>2</td>\n",
       "      <td>United States</td>\n",
       "      <td>USA</td>\n",
       "    </tr>\n",
       "    <tr>\n",
       "      <th>4944</th>\n",
       "      <td>1.560000e+18</td>\n",
       "      <td>2022-08-17 01:24:07+00:00</td>\n",
       "      <td>Reminder: Russia has seen warm-water ports, pa...</td>\n",
       "      <td>Washington, DC</td>\n",
       "      <td>0</td>\n",
       "      <td>0</td>\n",
       "      <td>United States</td>\n",
       "      <td>USA</td>\n",
       "    </tr>\n",
       "    <tr>\n",
       "      <th>4946</th>\n",
       "      <td>1.560000e+18</td>\n",
       "      <td>2022-08-17 01:23:59+00:00</td>\n",
       "      <td>Russia-Ukraine war latest: what we know on day...</td>\n",
       "      <td>Washington, DC</td>\n",
       "      <td>22</td>\n",
       "      <td>48</td>\n",
       "      <td>United States</td>\n",
       "      <td>USA</td>\n",
       "    </tr>\n",
       "    <tr>\n",
       "      <th>4947</th>\n",
       "      <td>1.560000e+18</td>\n",
       "      <td>2022-08-17 01:23:35+00:00</td>\n",
       "      <td>I just signed this workers' rights petition: h...</td>\n",
       "      <td>Washington, DC</td>\n",
       "      <td>0</td>\n",
       "      <td>0</td>\n",
       "      <td>United States</td>\n",
       "      <td>USA</td>\n",
       "    </tr>\n",
       "    <tr>\n",
       "      <th>4993</th>\n",
       "      <td>1.560000e+18</td>\n",
       "      <td>2022-08-17 01:11:24+00:00</td>\n",
       "      <td>well, here is another evidence that the Russia...</td>\n",
       "      <td>Україна</td>\n",
       "      <td>0</td>\n",
       "      <td>0</td>\n",
       "      <td>Ukraine</td>\n",
       "      <td>Europe</td>\n",
       "    </tr>\n",
       "  </tbody>\n",
       "</table>\n",
       "<p>863 rows × 8 columns</p>\n",
       "</div>"
      ],
      "text/plain": [
       "                 0                          1  \\\n",
       "22    1.560000e+18  2022-08-17 13:04:30+00:00   \n",
       "25    1.560000e+18  2022-08-17 12:59:33+00:00   \n",
       "27    1.560000e+18  2022-08-17 12:59:28+00:00   \n",
       "29    1.560000e+18  2022-08-17 12:59:17+00:00   \n",
       "30    1.560000e+18  2022-08-17 12:58:14+00:00   \n",
       "...            ...                        ...   \n",
       "4942  1.560000e+18  2022-08-17 01:25:11+00:00   \n",
       "4944  1.560000e+18  2022-08-17 01:24:07+00:00   \n",
       "4946  1.560000e+18  2022-08-17 01:23:59+00:00   \n",
       "4947  1.560000e+18  2022-08-17 01:23:35+00:00   \n",
       "4993  1.560000e+18  2022-08-17 01:11:24+00:00   \n",
       "\n",
       "                                                      2               3   4  \\\n",
       "22    Multiple explosions shook a #russianlosses mil...             USA   0   \n",
       "25    This is not just about German policy versus Ru...             USA   0   \n",
       "27    How emotional from the #UKRAINE swimmer who wo...             USA   0   \n",
       "29    We've seen such photos a lot during the Syrian...             USA   0   \n",
       "30    The West's outcry about #Abbas remarks is amus...             USA   0   \n",
       "...                                                 ...             ...  ..   \n",
       "4942  It was great to be able to support @TovaOBrien...  Washington, DC   1   \n",
       "4944  Reminder: Russia has seen warm-water ports, pa...  Washington, DC   0   \n",
       "4946  Russia-Ukraine war latest: what we know on day...  Washington, DC  22   \n",
       "4947  I just signed this workers' rights petition: h...  Washington, DC   0   \n",
       "4993  well, here is another evidence that the Russia...         Україна   0   \n",
       "\n",
       "       5      countries  topics  \n",
       "22     0  United States     USA  \n",
       "25     0  United States     USA  \n",
       "27     0  United States     USA  \n",
       "29     0  United States     USA  \n",
       "30     0  United States     USA  \n",
       "...   ..            ...     ...  \n",
       "4942   2  United States     USA  \n",
       "4944   0  United States     USA  \n",
       "4946  48  United States     USA  \n",
       "4947   0  United States     USA  \n",
       "4993   0        Ukraine  Europe  \n",
       "\n",
       "[863 rows x 8 columns]"
      ]
     },
     "execution_count": 20,
     "metadata": {},
     "output_type": "execute_result"
    }
   ],
   "source": [
    "df_clean_countries"
   ]
  },
  {
   "cell_type": "markdown",
   "metadata": {},
   "source": [
    "# Preprocess"
   ]
  },
  {
   "cell_type": "code",
   "execution_count": 21,
   "metadata": {},
   "outputs": [
    {
     "name": "stderr",
     "output_type": "stream",
     "text": [
      "[nltk_data] Downloading package stopwords to C:\\Users\\Risto\n",
      "[nltk_data]     Trajanov\\AppData\\Roaming\\nltk_data...\n",
      "[nltk_data]   Package stopwords is already up-to-date!\n"
     ]
    }
   ],
   "source": [
    "from sklearn.feature_extraction.text import CountVectorizer\n",
    "import numpy as np\n",
    "import nltk\n",
    "nltk.download('stopwords')\n",
    "from nltk.corpus import stopwords\n",
    "stopwords = stopwords.words('english')\n",
    "from nltk.tokenize import word_tokenize\n",
    "import preprocessor as p\n",
    "from string import punctuation"
   ]
  },
  {
   "cell_type": "code",
   "execution_count": 22,
   "metadata": {},
   "outputs": [
    {
     "data": {
      "text/plain": [
       "'Ukraine and Russia: What you need to know right now'"
      ]
     },
     "execution_count": 22,
     "metadata": {},
     "output_type": "execute_result"
    }
   ],
   "source": [
    "p.clean(df[2].tolist()[0])"
   ]
  },
  {
   "cell_type": "code",
   "execution_count": 23,
   "metadata": {},
   "outputs": [],
   "source": [
    "def most_frequent_words(tweets:list):\n",
    "    count_vectorizer =  CountVectorizer(max_features=1000)\n",
    "    feature_vector = count_vectorizer.fit(tweets)\n",
    "    features = feature_vector.get_feature_names()\n",
    "    train_ds_features = count_vectorizer.transform(tweets)\n",
    "    features_counts =  np.sum(train_ds_features.toarray(),axis=0)\n",
    "    features_counts = pd.DataFrame(dict(features = features, counts = features_counts))\n",
    "    features_counts.sort_values('counts', ascending=False)[0:15]\n",
    "    return features_counts['features'].values.tolist()"
   ]
  },
  {
   "cell_type": "code",
   "execution_count": 24,
   "metadata": {},
   "outputs": [],
   "source": [
    "def remove_stopwords_and_numbers(tweet:str):\n",
    "    tokens = word_tokenize(tweet)\n",
    "    new_tweet = [word for word in tokens if word not in stopwords and not word.isnumeric() and word not in punctuation and len(word)>3]\n",
    "    return ' '.join(new_tweet)"
   ]
  },
  {
   "cell_type": "code",
   "execution_count": 25,
   "metadata": {},
   "outputs": [],
   "source": [
    "def remove_not_frequent(tweet:str, most_frequent:list):\n",
    "    tokens = word_tokenize(tweet)\n",
    "    new_tweet = [word for word in tokens if word in most_frequent]\n",
    "    return ' '.join(new_tweet)"
   ]
  },
  {
   "cell_type": "code",
   "execution_count": 26,
   "metadata": {},
   "outputs": [
    {
     "name": "stderr",
     "output_type": "stream",
     "text": [
      "c:\\Users\\Risto Trajanov\\anaconda3\\envs\\myenv\\lib\\site-packages\\sklearn\\utils\\deprecation.py:87: FutureWarning: Function get_feature_names is deprecated; get_feature_names is deprecated in 1.0 and will be removed in 1.2. Please use get_feature_names_out instead.\n",
      "  warnings.warn(msg, category=FutureWarning)\n"
     ]
    }
   ],
   "source": [
    "most_frequent = most_frequent_words(df[2].tolist())"
   ]
  },
  {
   "cell_type": "code",
   "execution_count": 27,
   "metadata": {},
   "outputs": [],
   "source": [
    "tweets_clean = []\n",
    "for tweet in df_clean_countries[2].tolist():\n",
    "    tweet = p.clean(tweet)\n",
    "    tweet_clean = remove_stopwords_and_numbers(tweet)\n",
    "    # tweet_clean = remove_not_frequent(tweet_clean, most_frequent)\n",
    "    # if tweet_clean:\n",
    "    tweets_clean.append(tweet_clean)"
   ]
  },
  {
   "cell_type": "code",
   "execution_count": 28,
   "metadata": {},
   "outputs": [
    {
     "name": "stderr",
     "output_type": "stream",
     "text": [
      "c:\\Users\\Risto Trajanov\\anaconda3\\envs\\myenv\\lib\\site-packages\\ipykernel_launcher.py:1: SettingWithCopyWarning: \n",
      "A value is trying to be set on a copy of a slice from a DataFrame.\n",
      "Try using .loc[row_indexer,col_indexer] = value instead\n",
      "\n",
      "See the caveats in the documentation: https://pandas.pydata.org/pandas-docs/stable/user_guide/indexing.html#returning-a-view-versus-a-copy\n",
      "  \"\"\"Entry point for launching an IPython kernel.\n"
     ]
    }
   ],
   "source": [
    "df_clean_countries['tweet_clean'] = tweets_clean"
   ]
  },
  {
   "cell_type": "code",
   "execution_count": 29,
   "metadata": {},
   "outputs": [],
   "source": [
    "df_clean_countries = df_clean_countries[df_clean_countries['tweet_clean'].notna()]"
   ]
  },
  {
   "cell_type": "code",
   "execution_count": 30,
   "metadata": {},
   "outputs": [],
   "source": [
    "df_clean_countries.to_csv('./clean_data.csv')"
   ]
  },
  {
   "cell_type": "markdown",
   "metadata": {},
   "source": [
    "# Topic modeling"
   ]
  },
  {
   "cell_type": "markdown",
   "metadata": {},
   "source": [
    "## LDA"
   ]
  },
  {
   "cell_type": "code",
   "execution_count": 39,
   "metadata": {},
   "outputs": [],
   "source": [
    "df = pd.read_csv('./clean_data.csv')"
   ]
  },
  {
   "cell_type": "code",
   "execution_count": 51,
   "metadata": {},
   "outputs": [],
   "source": [
    "import gensim\n",
    "from gensim.utils import simple_preprocess\n",
    "import gensim.corpora as corpora\n",
    "import pyLDAvis\n",
    "import pyLDAvis.gensim\n",
    "from gensim.models import CoherenceModel"
   ]
  },
  {
   "cell_type": "code",
   "execution_count": 41,
   "metadata": {},
   "outputs": [],
   "source": [
    "# Sentence to word function\n",
    "def sent_to_words(sentences):\n",
    "    for sentence in sentences:\n",
    "        # deacc=True removes punctuations\n",
    "        yield(gensim.utils.simple_preprocess(str(sentence).lower(), deacc=True))"
   ]
  },
  {
   "cell_type": "code",
   "execution_count": 42,
   "metadata": {},
   "outputs": [],
   "source": [
    "data_words = list(sent_to_words(df['tweet_clean']))"
   ]
  },
  {
   "cell_type": "code",
   "execution_count": 43,
   "metadata": {},
   "outputs": [
    {
     "data": {
      "text/plain": [
       "['multiple',\n",
       " 'explosions',\n",
       " 'shook',\n",
       " 'military',\n",
       " 'base',\n",
       " 'tuesday',\n",
       " 'latest',\n",
       " 'spate',\n",
       " 'similar',\n",
       " 'incidents',\n",
       " 'occupied',\n",
       " 'peninsula']"
      ]
     },
     "execution_count": 43,
     "metadata": {},
     "output_type": "execute_result"
    }
   ],
   "source": [
    "data_words[0]"
   ]
  },
  {
   "cell_type": "code",
   "execution_count": 44,
   "metadata": {},
   "outputs": [
    {
     "name": "stdout",
     "output_type": "stream",
     "text": [
      "[(0, 1), (1, 1), (2, 1), (3, 1), (4, 1), (5, 1), (6, 1), (7, 1), (8, 1), (9, 1), (10, 1), (11, 1)]\n"
     ]
    }
   ],
   "source": [
    "# Create Dictionary\n",
    "id2word = corpora.Dictionary(data_words)\n",
    "# Create Corpus\n",
    "texts = data_words\n",
    "# Term Document Frequency\n",
    "corpus = [id2word.doc2bow(text) for text in texts]\n",
    "# View\n",
    "print(corpus[:1][0][:30])"
   ]
  },
  {
   "cell_type": "code",
   "execution_count": 45,
   "metadata": {},
   "outputs": [],
   "source": [
    "countries = list(set(df['topics'].tolist()))"
   ]
  },
  {
   "cell_type": "code",
   "execution_count": 46,
   "metadata": {},
   "outputs": [
    {
     "data": {
      "text/plain": [
       "['Europe', 'Africa', 'Middle East', 'USA']"
      ]
     },
     "execution_count": 46,
     "metadata": {},
     "output_type": "execute_result"
    }
   ],
   "source": [
    "countries"
   ]
  },
  {
   "cell_type": "code",
   "execution_count": 52,
   "metadata": {},
   "outputs": [
    {
     "name": "stdout",
     "output_type": "stream",
     "text": [
      "[(0,\n",
      "  '0.041*\"ukraine\" + 0.023*\"russia\" + 0.012*\"russian\" + 0.007*\"crimea\" + '\n",
      "  '0.007*\"russias\" + 0.006*\"ukrainian\" + 0.006*\"nuclear\" + 0.006*\"follow\" + '\n",
      "  '0.005*\"sabotage\" + 0.005*\"invasion\"'),\n",
      " (1,\n",
      "  '0.024*\"ukraine\" + 0.013*\"russia\" + 0.012*\"russian\" + 0.006*\"nuclear\" + '\n",
      "  '0.005*\"putin\" + 0.004*\"attack\" + 0.004*\"more\" + 0.004*\"invasion\" + '\n",
      "  '0.004*\"russias\" + 0.004*\"like\"'),\n",
      " (2,\n",
      "  '0.020*\"ukraine\" + 0.013*\"russia\" + 0.011*\"russian\" + 0.007*\"russians\" + '\n",
      "  '0.006*\"crimea\" + 0.006*\"ukrainians\" + 0.006*\"russias\" + 0.005*\"behind\" + '\n",
      "  '0.005*\"never\" + 0.005*\"enemy\"'),\n",
      " (3,\n",
      "  '0.026*\"ukraine\" + 0.016*\"russia\" + 0.010*\"russian\" + 0.007*\"please\" + '\n",
      "  '0.006*\"says\" + 0.006*\"follow\" + 0.006*\"looking\" + 0.005*\"forces\" + '\n",
      "  '0.005*\"odesa\" + 0.005*\"first\"'),\n",
      " (4,\n",
      "  '0.038*\"ukraine\" + 0.032*\"russia\" + 0.018*\"russian\" + 0.010*\"month\" + '\n",
      "  '0.008*\"putin\" + 0.006*\"russians\" + 0.006*\"today\" + 0.005*\"military\" + '\n",
      "  '0.005*\"ctoday\" + 0.005*\"world\"'),\n",
      " (5,\n",
      "  '0.035*\"russia\" + 0.030*\"ukraine\" + 0.006*\"ukrainian\" + 0.006*\"help\" + '\n",
      "  '0.006*\"russian\" + 0.005*\"crimea\" + 0.005*\"forces\" + 0.005*\"food\" + '\n",
      "  '0.004*\"invasion\" + 0.004*\"armed\"')]\n"
     ]
    },
    {
     "name": "stderr",
     "output_type": "stream",
     "text": [
      "c:\\Users\\Risto Trajanov\\anaconda3\\envs\\myenv\\lib\\site-packages\\pyLDAvis\\_prepare.py:248: FutureWarning: In a future version of pandas all arguments of DataFrame.drop except for the argument 'labels' will be keyword-only\n",
      "  by='saliency', ascending=False).head(R).drop('saliency', 1)\n"
     ]
    },
    {
     "name": "stdout",
     "output_type": "stream",
     "text": [
      "[(0,\n",
      "  '0.042*\"ukraine\" + 0.022*\"russia\" + 0.009*\"russias\" + 0.006*\"ukrainian\" + '\n",
      "  '0.006*\"russian\" + 0.005*\"putin\" + 0.005*\"attack\" + 0.005*\"news\" + '\n",
      "  '0.004*\"want\" + 0.004*\"crimea\"'),\n",
      " (1,\n",
      "  '0.036*\"ukraine\" + 0.029*\"russia\" + 0.026*\"russian\" + 0.008*\"putin\" + '\n",
      "  '0.008*\"forces\" + 0.007*\"crimea\" + 0.006*\"says\" + 0.006*\"news\" + '\n",
      "  '0.005*\"nuclear\" + 0.004*\"armed\"'),\n",
      " (2,\n",
      "  '0.040*\"ukraine\" + 0.030*\"russia\" + 0.013*\"russian\" + 0.007*\"ukrainian\" + '\n",
      "  '0.007*\"month\" + 0.006*\"forces\" + 0.006*\"says\" + 0.005*\"world\" + '\n",
      "  '0.005*\"russias\" + 0.005*\"article\"'),\n",
      " (3,\n",
      "  '0.020*\"russia\" + 0.014*\"ukraine\" + 0.010*\"russian\" + 0.009*\"looking\" + '\n",
      "  '0.009*\"please\" + 0.008*\"follow\" + 0.008*\"president\" + 0.008*\"military\" + '\n",
      "  '0.007*\"putin\" + 0.005*\"invasion\"'),\n",
      " (4,\n",
      "  '0.021*\"ukraine\" + 0.014*\"russia\" + 0.009*\"month\" + 0.006*\"lines\" + '\n",
      "  '0.006*\"ukrainians\" + 0.006*\"russias\" + 0.005*\"verified\" + 0.005*\"today\" + '\n",
      "  '0.005*\"said\" + 0.004*\"russian\"'),\n",
      " (5,\n",
      "  '0.033*\"ukraine\" + 0.029*\"russia\" + 0.009*\"russian\" + 0.008*\"russians\" + '\n",
      "  '0.006*\"nuclear\" + 0.006*\"grain\" + 0.005*\"destroyed\" + 0.005*\"crimea\" + '\n",
      "  '0.004*\"sabotage\" + 0.004*\"follow\"'),\n",
      " (6,\n",
      "  '0.014*\"ukraine\" + 0.011*\"russia\" + 0.007*\"russian\" + 0.006*\"crimea\" + '\n",
      "  '0.006*\"russians\" + 0.005*\"putin\" + 0.004*\"europe\" + 0.004*\"region\" + '\n",
      "  '0.004*\"ukrainian\" + 0.004*\"lines\"')]\n",
      "[(0,\n",
      "  '0.040*\"ukraine\" + 0.024*\"russia\" + 0.010*\"russian\" + 0.009*\"follow\" + '\n",
      "  '0.008*\"please\" + 0.008*\"russias\" + 0.007*\"looking\" + 0.006*\"attack\" + '\n",
      "  '0.005*\"ukrainian\" + 0.005*\"odesa\"'),\n",
      " (1,\n",
      "  '0.027*\"russian\" + 0.012*\"ukraine\" + 0.010*\"russia\" + 0.009*\"forces\" + '\n",
      "  '0.009*\"putin\" + 0.006*\"near\" + 0.006*\"armed\" + 0.005*\"month\" + '\n",
      "  '0.005*\"crimea\" + 0.005*\"nuclear\"'),\n",
      " (2,\n",
      "  '0.050*\"russia\" + 0.048*\"ukraine\" + 0.008*\"russian\" + 0.008*\"crimea\" + '\n",
      "  '0.007*\"putin\" + 0.006*\"amid\" + 0.006*\"sabotage\" + 0.005*\"russians\" + '\n",
      "  '0.005*\"president\" + 0.005*\"nuclear\"'),\n",
      " (3,\n",
      "  '0.018*\"russia\" + 0.017*\"ukraine\" + 0.013*\"russian\" + 0.010*\"nuclear\" + '\n",
      "  '0.008*\"power\" + 0.006*\"ukrainian\" + 0.006*\"putin\" + 0.006*\"military\" + '\n",
      "  '0.006*\"soldiers\" + 0.005*\"help\"'),\n",
      " (4,\n",
      "  '0.037*\"ukraine\" + 0.023*\"russia\" + 0.009*\"ukrainian\" + 0.008*\"crimea\" + '\n",
      "  '0.006*\"russias\" + 0.006*\"russian\" + 0.006*\"putin\" + 0.005*\"military\" + '\n",
      "  '0.005*\"explosions\" + 0.005*\"said\"'),\n",
      " (5,\n",
      "  '0.028*\"ukraine\" + 0.013*\"russia\" + 0.006*\"russian\" + 0.006*\"russians\" + '\n",
      "  '0.005*\"russias\" + 0.005*\"invasion\" + 0.004*\"armed\" + 0.004*\"months\" + '\n",
      "  '0.004*\"population\" + 0.004*\"continue\"'),\n",
      " (6,\n",
      "  '0.015*\"russian\" + 0.013*\"ukraine\" + 0.009*\"ukrainians\" + 0.008*\"russians\" + '\n",
      "  '0.007*\"this\" + 0.007*\"world\" + 0.007*\"behind\" + 0.007*\"russia\" + '\n",
      "  '0.006*\"crimea\" + 0.006*\"never\"'),\n",
      " (7,\n",
      "  '0.031*\"ukraine\" + 0.022*\"russia\" + 0.010*\"month\" + 0.009*\"russian\" + '\n",
      "  '0.008*\"verified\" + 0.007*\"today\" + 0.006*\"grain\" + 0.006*\"since\" + '\n",
      "  '0.006*\"months\" + 0.006*\"action\"')]\n",
      "[(0,\n",
      "  '0.020*\"ukraine\" + 0.014*\"please\" + 0.013*\"follow\" + 0.013*\"looking\" + '\n",
      "  '0.008*\"russian\" + 0.008*\"russia\" + 0.008*\"nuclear\" + 0.008*\"ukrainian\" + '\n",
      "  '0.005*\"near\" + 0.005*\"world\"'),\n",
      " (1,\n",
      "  '0.027*\"ukraine\" + 0.013*\"russia\" + 0.011*\"russians\" + 0.008*\"never\" + '\n",
      "  '0.008*\"lines\" + 0.008*\"ukrainians\" + 0.008*\"enemy\" + 0.008*\"behind\" + '\n",
      "  '0.008*\"months\" + 0.007*\"tell\"'),\n",
      " (2,\n",
      "  '0.035*\"ukraine\" + 0.012*\"russia\" + 0.012*\"russian\" + 0.009*\"russias\" + '\n",
      "  '0.008*\"crimea\" + 0.007*\"ukrainian\" + 0.006*\"europe\" + 0.006*\"fighting\" + '\n",
      "  '0.005*\"putin\" + 0.005*\"invasion\"'),\n",
      " (3,\n",
      "  '0.040*\"ukraine\" + 0.038*\"russia\" + 0.021*\"russian\" + 0.008*\"putin\" + '\n",
      "  '0.008*\"crimea\" + 0.008*\"month\" + 0.005*\"military\" + 0.005*\"explosions\" + '\n",
      "  '0.005*\"people\" + 0.005*\"attack\"'),\n",
      " (4,\n",
      "  '0.029*\"ukraine\" + 0.016*\"russia\" + 0.007*\"support\" + 0.006*\"putin\" + '\n",
      "  '0.006*\"ukrainian\" + 0.005*\"says\" + 0.005*\"forces\" + 0.005*\"crimea\" + '\n",
      "  '0.005*\"west\" + 0.005*\"enemy\"'),\n",
      " (5,\n",
      "  '0.040*\"ukraine\" + 0.023*\"russia\" + 0.014*\"russian\" + 0.007*\"president\" + '\n",
      "  '0.006*\"ukrainian\" + 0.006*\"invasion\" + 0.006*\"russias\" + 0.005*\"conflict\" + '\n",
      "  '0.004*\"like\" + 0.004*\"grain\"'),\n",
      " (6,\n",
      "  '0.022*\"ukraine\" + 0.020*\"russia\" + 0.008*\"russians\" + 0.007*\"unit\" + '\n",
      "  '0.006*\"help\" + 0.005*\"army\" + 0.005*\"destroyed\" + 0.005*\"russian\" + '\n",
      "  '0.005*\"world\" + 0.005*\"invasion\"'),\n",
      " (7,\n",
      "  '0.022*\"russia\" + 0.018*\"russian\" + 0.015*\"ukraine\" + 0.009*\"country\" + '\n",
      "  '0.008*\"region\" + 0.008*\"odesa\" + 0.006*\"says\" + 0.006*\"live\" + '\n",
      "  '0.006*\"missile\" + 0.006*\"russians\"'),\n",
      " (8,\n",
      "  '0.044*\"russia\" + 0.034*\"ukraine\" + 0.010*\"persecution\" + 0.010*\"jews\" + '\n",
      "  '0.009*\"news\" + 0.009*\"fears\" + 0.009*\"thousands\" + 0.009*\"quit\" + '\n",
      "  '0.009*\"amid\" + 0.008*\"month\"')]\n",
      "[(0,\n",
      "  '0.018*\"russian\" + 0.015*\"ukraine\" + 0.008*\"russia\" + 0.007*\"weapons\" + '\n",
      "  '0.007*\"report\" + 0.006*\"nuclear\" + 0.006*\"ukrainian\" + 0.006*\"people\" + '\n",
      "  '0.005*\"says\" + 0.005*\"putin\"'),\n",
      " (1,\n",
      "  '0.034*\"ukraine\" + 0.030*\"russia\" + 0.024*\"russian\" + 0.006*\"world\" + '\n",
      "  '0.006*\"crimea\" + 0.006*\"attack\" + 0.006*\"this\" + 0.005*\"would\" + '\n",
      "  '0.005*\"region\" + 0.005*\"odesa\"'),\n",
      " (2,\n",
      "  '0.036*\"ukraine\" + 0.026*\"russia\" + 0.010*\"russian\" + 0.008*\"power\" + '\n",
      "  '0.008*\"says\" + 0.007*\"nuclear\" + 0.006*\"company\" + 0.005*\"website\" + '\n",
      "  '0.005*\"ukrainian\" + 0.004*\"radio\"'),\n",
      " (3,\n",
      "  '0.018*\"ukraine\" + 0.011*\"russia\" + 0.007*\"russian\" + 0.006*\"ukrainian\" + '\n",
      "  '0.005*\"situation\" + 0.005*\"military\" + 0.005*\"united\" + 0.005*\"foreign\" + '\n",
      "  '0.005*\"signed\" + 0.005*\"times\"'),\n",
      " (4,\n",
      "  '0.035*\"ukraine\" + 0.034*\"russia\" + 0.007*\"follow\" + 0.007*\"looking\" + '\n",
      "  '0.007*\"please\" + 0.007*\"russias\" + 0.006*\"what\" + 0.005*\"amid\" + '\n",
      "  '0.005*\"military\" + 0.005*\"germany\"'),\n",
      " (5,\n",
      "  '0.031*\"ukraine\" + 0.024*\"russia\" + 0.009*\"ukrainian\" + 0.007*\"help\" + '\n",
      "  '0.006*\"russian\" + 0.005*\"jews\" + 0.005*\"news\" + 0.005*\"putin\" + '\n",
      "  '0.005*\"need\" + 0.004*\"lines\"'),\n",
      " (6,\n",
      "  '0.028*\"ukraine\" + 0.019*\"russia\" + 0.008*\"russian\" + 0.007*\"unit\" + '\n",
      "  '0.007*\"crimea\" + 0.006*\"nuclear\" + 0.005*\"russias\" + 0.005*\"sabotage\" + '\n",
      "  '0.005*\"invasion\" + 0.005*\"follow\"'),\n",
      " (7,\n",
      "  '0.050*\"ukraine\" + 0.037*\"russia\" + 0.017*\"russian\" + 0.012*\"crimea\" + '\n",
      "  '0.011*\"putin\" + 0.008*\"forces\" + 0.006*\"invasion\" + 0.006*\"russias\" + '\n",
      "  '0.005*\"president\" + 0.005*\"armed\"'),\n",
      " (8,\n",
      "  '0.013*\"russians\" + 0.011*\"russian\" + 0.008*\"enemy\" + 0.008*\"behind\" + '\n",
      "  '0.008*\"ukrainians\" + 0.007*\"never\" + 0.007*\"tell\" + 0.007*\"lines\" + '\n",
      "  '0.007*\"safe\" + 0.006*\"ukrainian\"'),\n",
      " (9,\n",
      "  '0.026*\"ukraine\" + 0.019*\"russia\" + 0.018*\"month\" + 0.009*\"today\" + '\n",
      "  '0.009*\"ctoday\" + 0.007*\"russian\" + 0.006*\"fighting\" + 0.006*\"more\" + '\n",
      "  '0.005*\"civilians\" + 0.005*\"nuclear\"')]\n",
      "[(0,\n",
      "  '0.026*\"russia\" + 0.025*\"ukraine\" + 0.015*\"russian\" + 0.008*\"says\" + '\n",
      "  '0.007*\"nuclear\" + 0.006*\"military\" + 0.006*\"power\" + 0.005*\"putin\" + '\n",
      "  '0.005*\"ukrainian\" + 0.005*\"russias\"'),\n",
      " (1,\n",
      "  '0.030*\"ukraine\" + 0.019*\"russia\" + 0.012*\"russian\" + 0.009*\"ukrainian\" + '\n",
      "  '0.009*\"president\" + 0.007*\"russians\" + 0.006*\"support\" + 0.006*\"zelensky\" + '\n",
      "  '0.006*\"unit\" + 0.006*\"ukrainians\"'),\n",
      " (2,\n",
      "  '0.041*\"russia\" + 0.033*\"ukraine\" + 0.010*\"crimea\" + 0.009*\"quit\" + '\n",
      "  '0.009*\"news\" + 0.009*\"amid\" + 0.009*\"persecution\" + 0.009*\"fears\" + '\n",
      "  '0.009*\"jews\" + 0.008*\"thousands\"'),\n",
      " (3,\n",
      "  '0.029*\"month\" + 0.015*\"ukraine\" + 0.015*\"russia\" + 0.013*\"ctoday\" + '\n",
      "  '0.013*\"today\" + 0.011*\"russian\" + 0.009*\"ukrainian\" + 0.009*\"crimea\" + '\n",
      "  '0.007*\"enemy\" + 0.006*\"putin\"'),\n",
      " (4,\n",
      "  '0.034*\"ukraine\" + 0.009*\"people\" + 0.008*\"article\" + 0.008*\"follow\" + '\n",
      "  '0.007*\"russia\" + 0.007*\"russias\" + 0.007*\"link\" + 0.007*\"help\" + '\n",
      "  '0.005*\"nation\" + 0.005*\"destroyed\"'),\n",
      " (5,\n",
      "  '0.033*\"ukraine\" + 0.021*\"russia\" + 0.018*\"russian\" + 0.009*\"putin\" + '\n",
      "  '0.006*\"heavy\" + 0.005*\"crimea\" + 0.005*\"world\" + 0.005*\"russians\" + '\n",
      "  '0.004*\"food\" + 0.004*\"work\"'),\n",
      " (6,\n",
      "  '0.011*\"ukraine\" + 0.010*\"ukrainian\" + 0.009*\"people\" + 0.007*\"russia\" + '\n",
      "  '0.006*\"donetsk\" + 0.006*\"leader\" + 0.005*\"russians\" + 0.005*\"lines\" + '\n",
      "  '0.005*\"tell\" + 0.005*\"never\"'),\n",
      " (7,\n",
      "  '0.025*\"ukraine\" + 0.017*\"russia\" + 0.014*\"russian\" + 0.007*\"putin\" + '\n",
      "  '0.006*\"crimea\" + 0.006*\"ukrainian\" + 0.005*\"military\" + 0.005*\"more\" + '\n",
      "  '0.005*\"nuclear\" + 0.004*\"said\"'),\n",
      " (8,\n",
      "  '0.044*\"ukraine\" + 0.035*\"russia\" + 0.016*\"russian\" + 0.006*\"follow\" + '\n",
      "  '0.006*\"forces\" + 0.006*\"please\" + 0.006*\"looking\" + 0.005*\"armed\" + '\n",
      "  '0.005*\"president\" + 0.005*\"russians\"'),\n",
      " (9,\n",
      "  '0.026*\"ukraine\" + 0.026*\"russia\" + 0.012*\"russian\" + 0.007*\"invasion\" + '\n",
      "  '0.006*\"crimea\" + 0.006*\"putin\" + 0.005*\"europe\" + 0.005*\"read\" + '\n",
      "  '0.005*\"russias\" + 0.004*\"good\"'),\n",
      " (10,\n",
      "  '0.041*\"ukraine\" + 0.022*\"russia\" + 0.012*\"russian\" + 0.008*\"russias\" + '\n",
      "  '0.008*\"attack\" + 0.007*\"need\" + 0.006*\"help\" + 0.006*\"region\" + '\n",
      "  '0.005*\"nuclear\" + 0.005*\"live\"')]\n",
      "[(0,\n",
      "  '0.035*\"ukraine\" + 0.025*\"russia\" + 0.019*\"news\" + 0.019*\"crimea\" + '\n",
      "  '0.019*\"sabotage\" + 0.019*\"woes\" + 0.019*\"highlights\" + 0.019*\"russias\" + '\n",
      "  '0.013*\"hear\" + 0.012*\"russian\"'),\n",
      " (1,\n",
      "  '0.017*\"check\" + 0.017*\"great\" + 0.017*\"item\" + 0.017*\"ukraine\" + '\n",
      "  '0.014*\"hear\" + 0.013*\"self\" + 0.013*\"condemnation\" + 0.013*\"instead\" + '\n",
      "  '0.013*\"half\" + 0.013*\"ukrainian\"'),\n",
      " (2,\n",
      "  '0.038*\"verified\" + 0.026*\"crypto\" + 0.014*\"ukraine\" + 0.014*\"russia\" + '\n",
      "  '0.014*\"embracing\" + 0.014*\"work\" + 0.014*\"second\" + 0.014*\"using\" + '\n",
      "  '0.014*\"british\" + 0.014*\"broke\"'),\n",
      " (3,\n",
      "  '0.020*\"ukraine\" + 0.017*\"russia\" + 0.012*\"support\" + 0.012*\"washington\" + '\n",
      "  '0.012*\"interventions\" + 0.012*\"anxious\" + 0.012*\"demanding\" + '\n",
      "  '0.012*\"inspired\" + 0.012*\"recognize\" + 0.012*\"type\"'),\n",
      " (4,\n",
      "  '0.018*\"russia\" + 0.018*\"ukraine\" + 0.018*\"support\" + 0.018*\"based\" + '\n",
      "  '0.018*\"various\" + 0.018*\"counseling\" + 0.018*\"immediate\" + 0.018*\"cash\" + '\n",
      "  '0.018*\"social\" + 0.018*\"vulnerable\"'),\n",
      " (5,\n",
      "  '0.032*\"russia\" + 0.031*\"ukraine\" + 0.026*\"work\" + 0.014*\"forgive\" + '\n",
      "  '0.014*\"grass\" + 0.014*\"watch\" + 0.014*\"assault\" + 0.014*\"group\" + '\n",
      "  '0.014*\"tvazhnye\" + 0.014*\"camouflaged\"')]\n",
      "[(0,\n",
      "  '0.023*\"russia\" + 0.021*\"work\" + 0.021*\"ukraine\" + 0.015*\"nova\" + '\n",
      "  '0.015*\"region\" + 0.015*\"russian\" + 0.015*\"occupiers\" + 0.015*\"destroyed\" + '\n",
      "  '0.015*\"kakhovka\" + 0.015*\"city\"'),\n",
      " (1,\n",
      "  '0.034*\"verified\" + 0.026*\"ukraine\" + 0.018*\"sabotage\" + 0.018*\"russias\" + '\n",
      "  '0.018*\"highlights\" + 0.018*\"brief\" + 0.018*\"crimea\" + 0.018*\"news\" + '\n",
      "  '0.018*\"power\" + 0.018*\"raising\"'),\n",
      " (2,\n",
      "  '0.037*\"ukraine\" + 0.036*\"russia\" + 0.027*\"hear\" + 0.014*\"russian\" + '\n",
      "  '0.014*\"apathetic\" + 0.014*\"timing\" + 0.014*\"detached\" + 0.014*\"still\" + '\n",
      "  '0.014*\"joining\" + 0.014*\"distance\"'),\n",
      " (3,\n",
      "  '0.022*\"russia\" + 0.021*\"ukraine\" + 0.014*\"russian\" + 0.014*\"gems\" + '\n",
      "  '0.014*\"label\" + 0.014*\"earns\" + 0.014*\"finance\" + 0.014*\"diamonds\" + '\n",
      "  '0.014*\"producer\" + 0.014*\"conflict\"'),\n",
      " (4,\n",
      "  '0.030*\"ukraine\" + 0.028*\"support\" + 0.016*\"russia\" + 0.016*\"nuclear\" + '\n",
      "  '0.016*\"terrorism\" + 0.016*\"macron\" + 0.016*\"call\" + 0.016*\"woes\" + '\n",
      "  '0.016*\"president\" + 0.016*\"condemns\"'),\n",
      " (5,\n",
      "  '0.014*\"interventions\" + 0.014*\"support\" + 0.014*\"state\" + 0.014*\"needs\" + '\n",
      "  '0.014*\"centers\" + 0.014*\"peoplenot\" + 0.014*\"equipmentwhen\" + '\n",
      "  '0.014*\"security\" + 0.014*\"weapons\" + 0.014*\"nation\"'),\n",
      " (6,\n",
      "  '0.038*\"crypto\" + 0.032*\"russia\" + 0.020*\"ukraine\" + 0.020*\"second\" + '\n",
      "  '0.020*\"rank\" + 0.020*\"embracing\" + 0.020*\"countries\" + 0.020*\"climbed\" + '\n",
      "  '0.020*\"broke\" + 0.020*\"using\"')]\n",
      "[(0,\n",
      "  '0.025*\"ukraine\" + 0.025*\"news\" + 0.025*\"russia\" + 0.013*\"highlights\" + '\n",
      "  '0.013*\"sabotage\" + 0.013*\"woes\" + 0.013*\"interventions\" + 0.013*\"persons\" + '\n",
      "  '0.013*\"assistance\" + 0.013*\"forms\"'),\n",
      " (1,\n",
      "  '0.026*\"work\" + 0.026*\"ukraine\" + 0.026*\"russia\" + 0.026*\"hear\" + '\n",
      "  '0.014*\"tvazhnye\" + 0.014*\"secretive\" + 0.014*\"forgive\" + 0.014*\"pairs\" + '\n",
      "  '0.014*\"watch\" + 0.014*\"enemy\"'),\n",
      " (2,\n",
      "  '0.032*\"ukraine\" + 0.025*\"russia\" + 0.016*\"washington\" + 0.013*\"poles\" + '\n",
      "  '0.013*\"inspired\" + 0.013*\"genocide\" + 0.013*\"brusssels\" + 0.013*\"london\" + '\n",
      "  '0.013*\"recognize\" + 0.013*\"committed\"'),\n",
      " (3,\n",
      "  '0.041*\"ukraine\" + 0.028*\"russia\" + 0.028*\"crypto\" + 0.015*\"russian\" + '\n",
      "  '0.015*\"conflict\" + 0.015*\"finance\" + 0.015*\"dollars\" + 0.015*\"gems\" + '\n",
      "  '0.015*\"diamonds\" + 0.015*\"label\"'),\n",
      " (4,\n",
      "  '0.022*\"region\" + 0.022*\"kherson\" + 0.022*\"nova\" + 0.022*\"russian\" + '\n",
      "  '0.022*\"occupiers\" + 0.022*\"base\" + 0.022*\"destroyed\" + 0.022*\"kakhovka\" + '\n",
      "  '0.022*\"city\" + 0.022*\"great\"'),\n",
      " (5,\n",
      "  '0.052*\"verified\" + 0.028*\"support\" + 0.028*\"work\" + 0.028*\"build\" + '\n",
      "  '0.028*\"undermining\" + 0.028*\"policy\" + 0.028*\"blog\" + 0.028*\"global\" + '\n",
      "  '0.028*\"migration\" + 0.028*\"read\"'),\n",
      " (6,\n",
      "  '0.018*\"russia\" + 0.018*\"ukraine\" + 0.018*\"state\" + 0.018*\"read\" + '\n",
      "  '0.018*\"support\" + 0.018*\"several\" + 0.018*\"international\" + '\n",
      "  '0.018*\"autocracy\" + 0.018*\"relations\" + 0.018*\"organizing\"'),\n",
      " (7,\n",
      "  '0.004*\"verified\" + 0.004*\"ukraine\" + 0.004*\"russia\" + 0.004*\"check\" + '\n",
      "  '0.004*\"item\" + 0.004*\"russias\" + 0.004*\"highlights\" + 0.004*\"crimea\" + '\n",
      "  '0.004*\"great\" + 0.004*\"support\"')]\n",
      "[(0,\n",
      "  '0.004*\"verified\" + 0.004*\"ukraine\" + 0.004*\"russia\" + 0.004*\"great\" + '\n",
      "  '0.004*\"check\" + 0.004*\"item\" + 0.004*\"russias\" + 0.004*\"support\" + '\n",
      "  '0.004*\"highlights\" + 0.004*\"sabotage\"'),\n",
      " (1,\n",
      "  '0.042*\"ukraine\" + 0.033*\"work\" + 0.022*\"russia\" + 0.012*\"hours\" + '\n",
      "  '0.012*\"assault\" + 0.012*\"pairs\" + 0.012*\"invisible\" + 0.012*\"footage\" + '\n",
      "  '0.012*\"forgive\" + 0.012*\"grass\"'),\n",
      " (2,\n",
      "  '0.022*\"ukraine\" + 0.022*\"interventions\" + 0.022*\"support\" + 0.013*\"crimea\" '\n",
      "  '+ 0.013*\"highlights\" + 0.013*\"sabotage\" + 0.013*\"intensifies\" + '\n",
      "  '0.013*\"woes\" + 0.013*\"russias\" + 0.013*\"brief\"'),\n",
      " (3,\n",
      "  '0.038*\"great\" + 0.038*\"check\" + 0.038*\"item\" + 0.004*\"verified\" + '\n",
      "  '0.004*\"ukraine\" + 0.004*\"russia\" + 0.004*\"support\" + 0.004*\"russias\" + '\n",
      "  '0.004*\"region\" + 0.004*\"woes\"'),\n",
      " (4,\n",
      "  '0.028*\"ministry\" + 0.028*\"post\" + 0.028*\"defense\" + 0.028*\"weeks\" + '\n",
      "  '0.028*\"washington\" + 0.028*\"british\" + 0.028*\"found\" + 0.028*\"said\" + '\n",
      "  '0.028*\"invasion\" + 0.028*\"head\"'),\n",
      " (5,\n",
      "  '0.044*\"russia\" + 0.044*\"ukraine\" + 0.023*\"hear\" + 0.023*\"russian\" + '\n",
      "  '0.023*\"crypto\" + 0.012*\"putins\" + 0.012*\"state\" + 0.012*\"keeping\" + '\n",
      "  '0.012*\"detached\" + 0.012*\"much\"'),\n",
      " (6,\n",
      "  '0.024*\"russia\" + 0.024*\"portal\" + 0.024*\"management\" + 0.024*\"news\" + '\n",
      "  '0.024*\"country\" + 0.024*\"jaishankar\" + 0.024*\"justifying\" + '\n",
      "  '0.024*\"indiablooms\" + 0.024*\"deal\" + 0.024*\"best\"'),\n",
      " (7,\n",
      "  '0.023*\"recognize\" + 0.023*\"genocide\" + 0.023*\"brusssels\" + 0.023*\"inspired\" '\n",
      "  '+ 0.023*\"diarrhea\" + 0.023*\"kiyiv\" + 0.023*\"cause\" + 0.023*\"washington\" + '\n",
      "  '0.023*\"type\" + 0.023*\"anxious\"'),\n",
      " (8,\n",
      "  '0.024*\"russia\" + 0.024*\"ukraine\" + 0.024*\"barley\" + 0.024*\"trkiye\" + '\n",
      "  '0.024*\"estimates\" + 0.024*\"production\" + 0.024*\"usda\" + 0.024*\"destroyed\" + '\n",
      "  '0.024*\"canada\" + 0.024*\"russian\"')]\n",
      "[(0,\n",
      "  '0.034*\"russia\" + 0.034*\"ukraine\" + 0.027*\"hear\" + 0.020*\"heavy\" + '\n",
      "  '0.020*\"region\" + 0.020*\"pics\" + 0.020*\"leaves\" + 0.020*\"houses\" + '\n",
      "  '0.020*\"shelling\" + 0.020*\"damaged\"'),\n",
      " (1,\n",
      "  '0.024*\"ukraine\" + 0.024*\"sabotage\" + 0.024*\"crimea\" + 0.024*\"highlights\" + '\n",
      "  '0.024*\"woes\" + 0.024*\"russias\" + 0.022*\"london\" + 0.022*\"cause\" + '\n",
      "  '0.022*\"brusssels\" + 0.022*\"nazi\"'),\n",
      " (2,\n",
      "  '0.025*\"sabotage\" + 0.025*\"iraq\" + 0.025*\"brief\" + 0.025*\"fears\" + '\n",
      "  '0.025*\"crimea\" + 0.025*\"power\" + 0.025*\"raising\" + 0.025*\"ukraine\" + '\n",
      "  '0.025*\"news\" + 0.025*\"struggle\"'),\n",
      " (3,\n",
      "  '0.037*\"ukraine\" + 0.036*\"russia\" + 0.016*\"crypto\" + 0.010*\"work\" + '\n",
      "  '0.008*\"russian\" + 0.008*\"ukrainian\" + 0.008*\"arsed\" + 0.008*\"pouring\" + '\n",
      "  '0.008*\"read\" + 0.008*\"half\"'),\n",
      " (4,\n",
      "  '0.035*\"verified\" + 0.023*\"hear\" + 0.014*\"society\" + 0.014*\"apathetic\" + '\n",
      "  '0.014*\"defeat\" + 0.013*\"given\" + 0.013*\"still\" + 0.013*\"joining\" + '\n",
      "  '0.013*\"distance\" + 0.012*\"russian\"'),\n",
      " (5,\n",
      "  '0.004*\"verified\" + 0.004*\"ukraine\" + 0.004*\"russia\" + 0.004*\"item\" + '\n",
      "  '0.004*\"great\" + 0.004*\"check\" + 0.004*\"woes\" + 0.004*\"support\" + '\n",
      "  '0.004*\"highlights\" + 0.004*\"russias\"'),\n",
      " (6,\n",
      "  '0.082*\"verified\" + 0.004*\"ukraine\" + 0.004*\"russia\" + 0.004*\"item\" + '\n",
      "  '0.004*\"check\" + 0.004*\"great\" + 0.004*\"russias\" + 0.004*\"woes\" + '\n",
      "  '0.004*\"support\" + 0.004*\"crimea\"'),\n",
      " (7,\n",
      "  '0.032*\"support\" + 0.029*\"work\" + 0.022*\"russia\" + 0.022*\"ukraine\" + '\n",
      "  '0.017*\"vulnerable\" + 0.017*\"counseling\" + 0.017*\"working\" + 0.017*\"provide\" '\n",
      "  '+ 0.017*\"forms\" + 0.017*\"persons\"'),\n",
      " (8,\n",
      "  '0.020*\"ukraine\" + 0.019*\"russia\" + 0.019*\"interventions\" + 0.019*\"support\" '\n",
      "  '+ 0.019*\"august\" + 0.019*\"state\" + 0.019*\"purposes\" + 0.019*\"trkiye\" + '\n",
      "  '0.019*\"peoplenot\" + 0.019*\"city\"'),\n",
      " (9,\n",
      "  '0.033*\"head\" + 0.033*\"said\" + 0.033*\"post\" + 0.033*\"invasion\" + '\n",
      "  '0.033*\"ministry\" + 0.033*\"found\" + 0.033*\"washington\" + 0.033*\"defense\" + '\n",
      "  '0.033*\"british\" + 0.033*\"weeks\"')]\n",
      "[(0,\n",
      "  '0.053*\"ukraine\" + 0.030*\"russia\" + 0.025*\"estimates\" + 0.025*\"canada\" + '\n",
      "  '0.025*\"august\" + 0.025*\"australia\" + 0.025*\"woes\" + 0.025*\"usda\" + '\n",
      "  '0.025*\"crimea\" + 0.025*\"sabotage\"'),\n",
      " (1,\n",
      "  '0.004*\"verified\" + 0.004*\"ukraine\" + 0.004*\"russia\" + 0.004*\"great\" + '\n",
      "  '0.004*\"item\" + 0.004*\"support\" + 0.004*\"check\" + 0.004*\"highlights\" + '\n",
      "  '0.004*\"woes\" + 0.004*\"sabotage\"'),\n",
      " (2,\n",
      "  '0.032*\"news\" + 0.026*\"russia\" + 0.021*\"justifying\" + 0.021*\"country\" + '\n",
      "  '0.021*\"purchase\" + 0.021*\"india\" + 0.021*\"indiablooms\" + 0.021*\"management\" '\n",
      "  '+ 0.021*\"portal\" + 0.021*\"best\"'),\n",
      " (3,\n",
      "  '0.048*\"verified\" + 0.025*\"ukraine\" + 0.025*\"russia\" + 0.025*\"diamond\" + '\n",
      "  '0.025*\"officially\" + 0.025*\"growing\" + 0.025*\"diamonds\" + 0.025*\"nations\" + '\n",
      "  '0.025*\"label\" + 0.025*\"earns\"'),\n",
      " (4,\n",
      "  '0.034*\"crypto\" + 0.026*\"ukraine\" + 0.018*\"using\" + 0.018*\"rank\" + '\n",
      "  '0.018*\"list\" + 0.018*\"diarrhea\" + 0.018*\"type\" + 0.018*\"broke\" + '\n",
      "  '0.018*\"second\" + 0.018*\"poles\"'),\n",
      " (5,\n",
      "  '0.011*\"hear\" + 0.009*\"detached\" + 0.009*\"distance\" + 0.009*\"ukraine\" + '\n",
      "  '0.009*\"russia\" + 0.008*\"still\" + 0.008*\"apathetic\" + 0.008*\"society\" + '\n",
      "  '0.008*\"means\" + 0.008*\"state\"'),\n",
      " (6,\n",
      "  '0.029*\"check\" + 0.029*\"item\" + 0.029*\"great\" + 0.028*\"work\" + '\n",
      "  '0.018*\"shooters\" + 0.017*\"hours\" + 0.017*\"combat\" + 0.017*\"tvazhnye\" + '\n",
      "  '0.017*\"covering\" + 0.017*\"invisible\"'),\n",
      " (7,\n",
      "  '0.020*\"ukraine\" + 0.020*\"waters\" + 0.020*\"western\" + 0.020*\"jerk\" + '\n",
      "  '0.020*\"arsed\" + 0.020*\"occupiers\" + 0.020*\"exactly\" + 0.020*\"kakhovka\" + '\n",
      "  '0.020*\"govts\" + 0.020*\"dozen\"'),\n",
      " (8,\n",
      "  '0.031*\"hear\" + 0.017*\"washington\" + 0.017*\"head\" + 0.017*\"ministry\" + '\n",
      "  '0.017*\"found\" + 0.017*\"work\" + 0.017*\"blog\" + 0.017*\"read\" + '\n",
      "  '0.017*\"undermining\" + 0.017*\"migration\"'),\n",
      " (9,\n",
      "  '0.035*\"russia\" + 0.035*\"ukraine\" + 0.023*\"interventions\" + 0.023*\"support\" '\n",
      "  '+ 0.012*\"several\" + 0.012*\"result\" + 0.012*\"divide\" + 0.012*\"vulnerable\" + '\n",
      "  '0.012*\"international\" + 0.012*\"analysis\"'),\n",
      " (10,\n",
      "  '0.004*\"verified\" + 0.004*\"ukraine\" + 0.004*\"russia\" + 0.004*\"great\" + '\n",
      "  '0.004*\"item\" + 0.004*\"check\" + 0.004*\"russias\" + 0.004*\"support\" + '\n",
      "  '0.004*\"russian\" + 0.004*\"crimea\"')]\n",
      "[(0,\n",
      "  '0.020*\"russia\" + 0.018*\"ukraine\" + 0.007*\"could\" + 0.007*\"employees\" + '\n",
      "  '0.007*\"support\" + 0.007*\"russians\" + 0.006*\"afternoon\" + 0.006*\"want\" + '\n",
      "  '0.006*\"crisis\" + 0.006*\"good\"'),\n",
      " (1,\n",
      "  '0.028*\"russia\" + 0.022*\"ukraine\" + 0.011*\"russian\" + 0.011*\"people\" + '\n",
      "  '0.010*\"china\" + 0.008*\"russians\" + 0.007*\"program\" + 0.007*\"nato\" + '\n",
      "  '0.005*\"countries\" + 0.005*\"says\"'),\n",
      " (2,\n",
      "  '0.019*\"ukraine\" + 0.019*\"russia\" + 0.009*\"world\" + 0.008*\"russian\" + '\n",
      "  '0.008*\"political\" + 0.008*\"need\" + 0.008*\"general\" + 0.008*\"exports\" + '\n",
      "  '0.006*\"invasion\" + 0.005*\"ukrainian\"'),\n",
      " (3,\n",
      "  '0.024*\"ukraine\" + 0.019*\"russia\" + 0.010*\"help\" + 0.008*\"fears\" + '\n",
      "  '0.007*\"russias\" + 0.007*\"crisis\" + 0.007*\"crises\" + 0.007*\"best\" + '\n",
      "  '0.006*\"would\" + 0.006*\"missile\"'),\n",
      " (4,\n",
      "  '0.012*\"ukraine\" + 0.011*\"russia\" + 0.008*\"read\" + 0.008*\"crimea\" + '\n",
      "  '0.008*\"every\" + 0.007*\"logistics\" + 0.006*\"good\" + 0.005*\"last\" + '\n",
      "  '0.005*\"decades\" + 0.005*\"meaningful\"'),\n",
      " (5,\n",
      "  '0.020*\"ukraine\" + 0.020*\"russia\" + 0.015*\"russian\" + 0.014*\"ukrainian\" + '\n",
      "  '0.012*\"crimea\" + 0.008*\"bridge\" + 0.006*\"blood\" + 0.006*\"cats\" + '\n",
      "  '0.006*\"food\" + 0.006*\"good\"')]\n",
      "[(0,\n",
      "  '0.027*\"russia\" + 0.020*\"ukraine\" + 0.016*\"russian\" + 0.011*\"invasion\" + '\n",
      "  '0.010*\"ukrainian\" + 0.009*\"troops\" + 0.007*\"children\" + 0.007*\"military\" + '\n",
      "  '0.007*\"china\" + 0.007*\"blood\"'),\n",
      " (1,\n",
      "  '0.013*\"ukraine\" + 0.013*\"russia\" + 0.011*\"would\" + 0.011*\"crisis\" + '\n",
      "  '0.010*\"people\" + 0.008*\"world\" + 0.008*\"political\" + 0.008*\"last\" + '\n",
      "  '0.008*\"power\" + 0.008*\"running\"'),\n",
      " (2,\n",
      "  '0.023*\"ukraine\" + 0.020*\"russia\" + 0.007*\"even\" + 0.007*\"million\" + '\n",
      "  '0.007*\"help\" + 0.007*\"please\" + 0.007*\"countries\" + 0.006*\"russians\" + '\n",
      "  '0.005*\"says\" + 0.005*\"hits\"'),\n",
      " (3,\n",
      "  '0.029*\"ukraine\" + 0.026*\"russia\" + 0.014*\"crimea\" + 0.011*\"could\" + '\n",
      "  '0.010*\"food\" + 0.009*\"russian\" + 0.007*\"sabotage\" + 0.007*\"tribunal\" + '\n",
      "  '0.007*\"dogs\" + 0.007*\"cats\"'),\n",
      " (4,\n",
      "  '0.018*\"ukraine\" + 0.017*\"russia\" + 0.012*\"russias\" + 0.010*\"good\" + '\n",
      "  '0.010*\"ukrainian\" + 0.010*\"international\" + 0.010*\"want\" + '\n",
      "  '0.007*\"employees\" + 0.007*\"afternoon\" + 0.007*\"forces\"'),\n",
      " (5,\n",
      "  '0.026*\"russia\" + 0.023*\"ukraine\" + 0.012*\"china\" + 0.011*\"amid\" + '\n",
      "  '0.011*\"program\" + 0.009*\"russians\" + 0.009*\"conflict\" + 0.008*\"jews\" + '\n",
      "  '0.008*\"thousands\" + 0.008*\"persecution\"'),\n",
      " (6,\n",
      "  '0.015*\"crimea\" + 0.015*\"russian\" + 0.012*\"bridge\" + 0.009*\"record\" + '\n",
      "  '0.009*\"cars\" + 0.009*\"russia\" + 0.009*\"fears\" + 0.008*\"closed\" + '\n",
      "  '0.007*\"hold\" + 0.006*\"ukrainian\"')]\n",
      "[(0,\n",
      "  '0.023*\"russia\" + 0.022*\"ukraine\" + 0.014*\"help\" + 0.011*\"could\" + '\n",
      "  '0.010*\"ukrainian\" + 0.008*\"food\" + 0.007*\"putin\" + 0.007*\"russian\" + '\n",
      "  '0.006*\"russians\" + 0.006*\"need\"'),\n",
      " (1,\n",
      "  '0.013*\"political\" + 0.013*\"countries\" + 0.010*\"logistics\" + 0.010*\"escape\" '\n",
      "  '+ 0.009*\"conflict\" + 0.009*\"russia\" + 0.005*\"crimea\" + 0.005*\"good\" + '\n",
      "  '0.005*\"nothing\" + 0.005*\"flee\"'),\n",
      " (2,\n",
      "  '0.028*\"russia\" + 0.024*\"ukraine\" + 0.014*\"thousands\" + 0.014*\"jews\" + '\n",
      "  '0.014*\"crisis\" + 0.014*\"amid\" + 0.014*\"quit\" + 0.014*\"fears\" + '\n",
      "  '0.014*\"persecution\" + 0.009*\"would\"'),\n",
      " (3,\n",
      "  '0.026*\"ukraine\" + 0.021*\"russia\" + 0.009*\"china\" + 0.009*\"decades\" + '\n",
      "  '0.009*\"russias\" + 0.009*\"best\" + 0.005*\"people\" + 0.005*\"gone\" + '\n",
      "  '0.005*\"meaningful\" + 0.005*\"ussr\"'),\n",
      " (4,\n",
      "  '0.015*\"russia\" + 0.014*\"crimea\" + 0.014*\"want\" + 0.014*\"good\" + '\n",
      "  '0.014*\"afternoon\" + 0.008*\"ukraine\" + 0.008*\"power\" + 0.007*\"russian\" + '\n",
      "  '0.007*\"reported\" + 0.007*\"ministry\"'),\n",
      " (5,\n",
      "  '0.036*\"ukraine\" + 0.026*\"russia\" + 0.013*\"crimea\" + 0.010*\"troops\" + '\n",
      "  '0.008*\"bridge\" + 0.008*\"like\" + 0.008*\"invasion\" + 0.008*\"really\" + '\n",
      "  '0.008*\"sabotage\" + 0.008*\"russias\"'),\n",
      " (6,\n",
      "  '0.025*\"russia\" + 0.021*\"ukraine\" + 0.011*\"russians\" + 0.009*\"people\" + '\n",
      "  '0.009*\"china\" + 0.009*\"destroyed\" + 0.007*\"program\" + 0.007*\"russian\" + '\n",
      "  '0.005*\"employees\" + 0.005*\"propaganda\"'),\n",
      " (7,\n",
      "  '0.026*\"russian\" + 0.010*\"people\" + 0.010*\"million\" + 0.010*\"state\" + '\n",
      "  '0.010*\"blood\" + 0.010*\"ukrainian\" + 0.008*\"russia\" + 0.007*\"media\" + '\n",
      "  '0.006*\"saying\" + 0.006*\"invasion\"')]\n",
      "[(0,\n",
      "  '0.043*\"ukraine\" + 0.036*\"russia\" + 0.018*\"crimea\" + 0.011*\"russias\" + '\n",
      "  '0.009*\"invasion\" + 0.008*\"russian\" + 0.008*\"hits\" + 0.008*\"highlights\" + '\n",
      "  '0.008*\"best\" + 0.008*\"woes\"'),\n",
      " (1,\n",
      "  '0.012*\"russia\" + 0.012*\"people\" + 0.012*\"russian\" + 0.006*\"ukraine\" + '\n",
      "  '0.006*\"bilateral\" + 0.006*\"political\" + 0.006*\"paypal\" + 0.006*\"figures\" + '\n",
      "  '0.006*\"admits\" + 0.006*\"security\"'),\n",
      " (2,\n",
      "  '0.016*\"russia\" + 0.015*\"ukraine\" + 0.013*\"russian\" + 0.008*\"company\" + '\n",
      "  '0.008*\"could\" + 0.005*\"good\" + 0.005*\"escape\" + 0.005*\"websiteuhuru\" + '\n",
      "  '0.005*\"ukraines\" + 0.005*\"mutua\"'),\n",
      " (3,\n",
      "  '0.016*\"ukrainian\" + 0.015*\"russian\" + 0.014*\"program\" + 0.011*\"want\" + '\n",
      "  '0.011*\"good\" + 0.010*\"teach\" + 0.010*\"russians\" + 0.009*\"like\" + '\n",
      "  '0.009*\"blood\" + 0.007*\"afternoon\"'),\n",
      " (4,\n",
      "  '0.022*\"russia\" + 0.016*\"ukraine\" + 0.015*\"fears\" + 0.012*\"russian\" + '\n",
      "  '0.011*\"political\" + 0.011*\"china\" + 0.007*\"occupied\" + 0.007*\"bridge\" + '\n",
      "  '0.006*\"power\" + 0.006*\"systems\"'),\n",
      " (5,\n",
      "  '0.043*\"ukraine\" + 0.038*\"russia\" + 0.010*\"amid\" + 0.009*\"jews\" + '\n",
      "  '0.007*\"fears\" + 0.007*\"missile\" + 0.007*\"ukrainian\" + 0.007*\"logistics\" + '\n",
      "  '0.007*\"jewish\" + 0.007*\"people\"'),\n",
      " (6,\n",
      "  '0.016*\"million\" + 0.013*\"russia\" + 0.011*\"china\" + 0.008*\"protection\" + '\n",
      "  '0.008*\"invasion\" + 0.008*\"read\" + 0.008*\"internally\" + 0.008*\"analysis\" + '\n",
      "  '0.008*\"displaced\" + 0.008*\"crossed\"'),\n",
      " (7,\n",
      "  '0.016*\"russia\" + 0.016*\"crisis\" + 0.015*\"would\" + 0.014*\"ukraine\" + '\n",
      "  '0.012*\"could\" + 0.011*\"tribunal\" + 0.009*\"what\" + 0.006*\"crises\" + '\n",
      "  '0.006*\"ukrainian\" + 0.006*\"falling\"'),\n",
      " (8,\n",
      "  '0.015*\"russians\" + 0.010*\"visas\" + 0.010*\"he\" + 0.010*\"help\" + '\n",
      "  '0.010*\"employees\" + 0.010*\"tourist\" + 0.010*\"support\" + 0.007*\"russias\" + '\n",
      "  '0.006*\"russia\" + 0.006*\"potential\"')]\n",
      "[(0,\n",
      "  '0.037*\"ukraine\" + 0.037*\"russia\" + 0.013*\"russian\" + 0.010*\"invasion\" + '\n",
      "  '0.009*\"just\" + 0.009*\"troops\" + 0.009*\"andrew\" + 0.009*\"really\" + '\n",
      "  '0.008*\"china\" + 0.007*\"russias\"'),\n",
      " (1,\n",
      "  '0.018*\"ukraine\" + 0.013*\"crisis\" + 0.012*\"china\" + 0.012*\"russia\" + '\n",
      "  '0.009*\"russias\" + 0.007*\"shot\" + 0.007*\"vehicles\" + 0.007*\"force\" + '\n",
      "  '0.007*\"armed\" + 0.007*\"units\"'),\n",
      " (2,\n",
      "  '0.022*\"russia\" + 0.012*\"food\" + 0.011*\"conflict\" + 0.011*\"ukraine\" + '\n",
      "  '0.008*\"supplies\" + 0.007*\"ukrainian\" + 0.007*\"amid\" + 0.006*\"good\" + '\n",
      "  '0.006*\"com\" + 0.006*\"help\"'),\n",
      " (3,\n",
      "  '0.025*\"russian\" + 0.016*\"russians\" + 0.015*\"ukrainian\" + 0.012*\"ukraine\" + '\n",
      "  '0.012*\"program\" + 0.010*\"says\" + 0.008*\"he\" + 0.008*\"occupied\" + '\n",
      "  '0.008*\"teach\" + 0.008*\"nato\"'),\n",
      " (4,\n",
      "  '0.014*\"russia\" + 0.011*\"employees\" + 0.011*\"ukraine\" + 0.008*\"help\" + '\n",
      "  '0.007*\"logistics\" + 0.006*\"support\" + 0.006*\"persecution\" + 0.006*\"tourist\" '\n",
      "  '+ 0.006*\"voicing\" + 0.006*\"counter\"'),\n",
      " (5,\n",
      "  '0.014*\"last\" + 0.013*\"afternoon\" + 0.013*\"want\" + 0.013*\"good\" + '\n",
      "  '0.008*\"russia\" + 0.008*\"mass\" + 0.008*\"statistically\" + 0.008*\"large\" + '\n",
      "  '0.008*\"abroad\" + 0.008*\"since\"'),\n",
      " (6,\n",
      "  '0.033*\"russia\" + 0.028*\"ukraine\" + 0.013*\"jews\" + 0.011*\"could\" + '\n",
      "  '0.010*\"people\" + 0.010*\"tribunal\" + 0.010*\"putin\" + 0.009*\"quit\" + '\n",
      "  '0.009*\"amid\" + 0.009*\"fears\"'),\n",
      " (7,\n",
      "  '0.018*\"political\" + 0.009*\"invasion\" + 0.009*\"million\" + 0.009*\"multipolar\" '\n",
      "  '+ 0.009*\"year\" + 0.009*\"since\" + 0.009*\"russias\" + 0.009*\"towards\" + '\n",
      "  '0.009*\"need\" + 0.009*\"deal\"'),\n",
      " (8,\n",
      "  '0.032*\"ukraine\" + 0.031*\"russia\" + 0.013*\"crimea\" + 0.009*\"invasion\" + '\n",
      "  '0.009*\"million\" + 0.007*\"ukrainian\" + 0.004*\"used\" + 0.004*\"russian\" + '\n",
      "  '0.004*\"russians\" + 0.004*\"world\"'),\n",
      " (9,\n",
      "  '0.020*\"ukraine\" + 0.019*\"russia\" + 0.013*\"best\" + 0.011*\"this\" + '\n",
      "  '0.011*\"general\" + 0.009*\"russian\" + 0.007*\"crimea\" + 0.007*\"ukrainian\" + '\n",
      "  '0.007*\"became\" + 0.007*\"strait\"')]\n",
      "[(0,\n",
      "  '0.031*\"ukraine\" + 0.026*\"russia\" + 0.016*\"russian\" + 0.011*\"crimea\" + '\n",
      "  '0.011*\"political\" + 0.006*\"children\" + 0.006*\"diamonds\" + 0.006*\"global\" + '\n",
      "  '0.006*\"listen\" + 0.006*\"soul\"'),\n",
      " (1,\n",
      "  '0.014*\"ukraine\" + 0.012*\"strong\" + 0.012*\"help\" + 0.008*\"russia\" + '\n",
      "  '0.006*\"weapons\" + 0.006*\"unfathomable\" + 0.006*\"record\" + 0.006*\"hours\" + '\n",
      "  '0.006*\"start\" + 0.006*\"strait\"'),\n",
      " (2,\n",
      "  '0.019*\"ukraine\" + 0.015*\"russia\" + 0.015*\"ukrainian\" + 0.013*\"said\" + '\n",
      "  '0.012*\"russian\" + 0.012*\"moscow\" + 0.008*\"enough\" + 0.008*\"maloba\" + '\n",
      "  '0.008*\"access\" + 0.008*\"river\"'),\n",
      " (3,\n",
      "  '0.027*\"ukraine\" + 0.027*\"russia\" + 0.010*\"million\" + 0.010*\"could\" + '\n",
      "  '0.005*\"political\" + 0.005*\"countries\" + 0.005*\"power\" + 0.005*\"need\" + '\n",
      "  '0.005*\"russian\" + 0.005*\"germany\"'),\n",
      " (4,\n",
      "  '0.022*\"russia\" + 0.013*\"crimea\" + 0.013*\"program\" + 0.013*\"russians\" + '\n",
      "  '0.013*\"ukraine\" + 0.011*\"russian\" + 0.009*\"teach\" + 0.009*\"country\" + '\n",
      "  '0.009*\"propaganda\" + 0.009*\"nothing\"'),\n",
      " (5,\n",
      "  '0.035*\"russia\" + 0.021*\"china\" + 0.021*\"ukraine\" + 0.014*\"crisis\" + '\n",
      "  '0.014*\"world\" + 0.008*\"later\" + 0.008*\"side\" + 0.008*\"free\" + 0.008*\"amid\" '\n",
      "  '+ 0.008*\"taiwan\"'),\n",
      " (6,\n",
      "  '0.022*\"good\" + 0.015*\"afternoon\" + 0.015*\"want\" + 0.015*\"blood\" + '\n",
      "  '0.015*\"ukrainian\" + 0.015*\"russian\" + 0.013*\"ukraine\" + 0.010*\"countries\" + '\n",
      "  '0.009*\"russia\" + 0.008*\"mothers\"'),\n",
      " (7,\n",
      "  '0.026*\"russia\" + 0.021*\"ukraine\" + 0.010*\"leave\" + 0.010*\"bridge\" + '\n",
      "  '0.010*\"fears\" + 0.010*\"russians\" + 0.010*\"russian\" + 0.010*\"used\" + '\n",
      "  '0.010*\"forces\" + 0.007*\"really\"'),\n",
      " (8,\n",
      "  '0.029*\"ukraine\" + 0.029*\"russia\" + 0.013*\"conflict\" + 0.013*\"people\" + '\n",
      "  '0.013*\"china\" + 0.011*\"logistics\" + 0.007*\"nato\" + 0.007*\"just\" + '\n",
      "  '0.007*\"conduct\" + 0.007*\"heard\"'),\n",
      " (9,\n",
      "  '0.019*\"ukraine\" + 0.017*\"says\" + 0.013*\"he\" + 0.013*\"russia\" + '\n",
      "  '0.010*\"attack\" + 0.007*\"protest\" + 0.007*\"genocide\" + 0.007*\"cowards\" + '\n",
      "  '0.007*\"region\" + 0.007*\"bury\"'),\n",
      " (10,\n",
      "  '0.017*\"ukrainian\" + 0.013*\"best\" + 0.010*\"tribunal\" + 0.007*\"since\" + '\n",
      "  '0.007*\"meaningful\" + 0.007*\"last\" + 0.007*\"million\" + 0.007*\"year\" + '\n",
      "  '0.007*\"agency\" + 0.007*\"volodymr\"')]\n",
      "[(0,\n",
      "  '0.011*\"russian\" + 0.008*\"busy\" + 0.007*\"ukrainian\" + 0.006*\"ukraine\" + '\n",
      "  '0.005*\"morning\" + 0.005*\"thread\" + 0.005*\"check\" + 0.005*\"amid\" + '\n",
      "  '0.005*\"lines\" + 0.005*\"offensive\"'),\n",
      " (1,\n",
      "  '0.036*\"ukraine\" + 0.024*\"russia\" + 0.008*\"invasion\" + 0.008*\"president\" + '\n",
      "  '0.007*\"putin\" + 0.006*\"russian\" + 0.005*\"york\" + 0.005*\"times\" + '\n",
      "  '0.005*\"that\" + 0.005*\"vladimir\"'),\n",
      " (2,\n",
      "  '0.042*\"ukraine\" + 0.039*\"russia\" + 0.015*\"russian\" + 0.007*\"invasion\" + '\n",
      "  '0.006*\"forces\" + 0.006*\"russians\" + 0.005*\"need\" + 0.005*\"sabotage\" + '\n",
      "  '0.005*\"thousands\" + 0.004*\"crimea\"'),\n",
      " (3,\n",
      "  '0.035*\"ukraine\" + 0.035*\"russia\" + 0.013*\"crimea\" + 0.009*\"ukrainian\" + '\n",
      "  '0.006*\"supply\" + 0.006*\"latest\" + 0.006*\"news\" + 0.006*\"blasts\" + '\n",
      "  '0.006*\"says\" + 0.006*\"sabotage\"'),\n",
      " (4,\n",
      "  '0.018*\"russia\" + 0.015*\"ukraine\" + 0.007*\"russian\" + 0.006*\"times\" + '\n",
      "  '0.006*\"news\" + 0.006*\"forces\" + 0.005*\"military\" + 0.004*\"york\" + '\n",
      "  '0.004*\"would\" + 0.004*\"behind\"'),\n",
      " (5,\n",
      "  '0.016*\"russian\" + 0.013*\"ukraine\" + 0.008*\"russia\" + 0.008*\"putin\" + '\n",
      "  '0.007*\"ukrainian\" + 0.007*\"iran\" + 0.007*\"region\" + 0.007*\"forces\" + '\n",
      "  '0.006*\"occupied\" + 0.006*\"nuclear\"')]\n",
      "[(0,\n",
      "  '0.048*\"ukraine\" + 0.035*\"russia\" + 0.011*\"russian\" + 0.009*\"says\" + '\n",
      "  '0.009*\"need\" + 0.007*\"nuclear\" + 0.006*\"putin\" + 0.005*\"live\" + '\n",
      "  '0.005*\"invasion\" + 0.005*\"ruzzia\"'),\n",
      " (1,\n",
      "  '0.013*\"russia\" + 0.010*\"russians\" + 0.008*\"lines\" + 0.008*\"military\" + '\n",
      "  '0.008*\"russias\" + 0.007*\"york\" + 0.007*\"times\" + 0.006*\"russian\" + '\n",
      "  '0.006*\"ukrainian\" + 0.006*\"ukraine\"'),\n",
      " (2,\n",
      "  '0.015*\"ukraine\" + 0.014*\"russian\" + 0.014*\"russia\" + 0.006*\"ukrainian\" + '\n",
      "  '0.006*\"forces\" + 0.006*\"world\" + 0.006*\"that\" + 0.005*\"soldier\" + '\n",
      "  '0.005*\"troops\" + 0.004*\"said\"'),\n",
      " (3,\n",
      "  '0.035*\"ukraine\" + 0.020*\"russia\" + 0.017*\"russian\" + 0.011*\"crimea\" + '\n",
      "  '0.008*\"ukrainian\" + 0.006*\"attack\" + 0.005*\"putin\" + 0.005*\"suspected\" + '\n",
      "  '0.005*\"town\" + 0.004*\"weapons\"'),\n",
      " (4,\n",
      "  '0.016*\"ukraine\" + 0.015*\"russian\" + 0.008*\"russia\" + 0.008*\"ukrainian\" + '\n",
      "  '0.008*\"york\" + 0.008*\"president\" + 0.008*\"times\" + 0.005*\"like\" + '\n",
      "  '0.005*\"couldve\" + 0.005*\"strikes\"'),\n",
      " (5,\n",
      "  '0.034*\"russia\" + 0.028*\"ukraine\" + 0.010*\"invasion\" + 0.007*\"forces\" + '\n",
      "  '0.007*\"russian\" + 0.006*\"news\" + 0.006*\"would\" + 0.005*\"military\" + '\n",
      "  '0.005*\"latest\" + 0.004*\"crimea\"'),\n",
      " (6,\n",
      "  '0.037*\"ukraine\" + 0.037*\"russia\" + 0.009*\"invasion\" + 0.009*\"jews\" + '\n",
      "  '0.008*\"amid\" + 0.008*\"persecution\" + 0.007*\"news\" + 0.007*\"check\" + '\n",
      "  '0.006*\"forces\" + 0.006*\"fears\"')]\n",
      "[(0,\n",
      "  '0.012*\"russia\" + 0.011*\"ukraine\" + 0.011*\"ukrainian\" + 0.009*\"russian\" + '\n",
      "  '0.007*\"putin\" + 0.007*\"week\" + 0.006*\"check\" + 0.005*\"russians\" + '\n",
      "  '0.005*\"occupied\" + 0.005*\"couldve\"'),\n",
      " (1,\n",
      "  '0.014*\"crimea\" + 0.014*\"ukrainian\" + 0.011*\"york\" + 0.010*\"would\" + '\n",
      "  '0.010*\"times\" + 0.010*\"ukraine\" + 0.010*\"explosions\" + 0.010*\"russian\" + '\n",
      "  '0.008*\"nuclear\" + 0.008*\"attack\"'),\n",
      " (2,\n",
      "  '0.029*\"russia\" + 0.021*\"ukraine\" + 0.019*\"russian\" + 0.008*\"invasion\" + '\n",
      "  '0.007*\"latest\" + 0.007*\"defense\" + 0.006*\"busy\" + 0.006*\"know\" + '\n",
      "  '0.005*\"lines\" + 0.005*\"forces\"'),\n",
      " (3,\n",
      "  '0.029*\"ukraine\" + 0.025*\"russia\" + 0.016*\"russian\" + 0.008*\"invasion\" + '\n",
      "  '0.008*\"attacks\" + 0.007*\"russians\" + 0.006*\"ukrainian\" + 0.006*\"care\" + '\n",
      "  '0.006*\"news\" + 0.006*\"health\"'),\n",
      " (4,\n",
      "  '0.037*\"ukraine\" + 0.018*\"russia\" + 0.012*\"russian\" + 0.009*\"sabotage\" + '\n",
      "  '0.008*\"forces\" + 0.007*\"crimea\" + 0.007*\"ruzzia\" + 0.007*\"news\" + '\n",
      "  '0.007*\"blames\" + 0.005*\"ukrainian\"'),\n",
      " (5,\n",
      "  '0.049*\"ukraine\" + 0.040*\"russia\" + 0.006*\"also\" + 0.006*\"korea\" + '\n",
      "  '0.006*\"persecution\" + 0.006*\"north\" + 0.006*\"donetsk\" + 0.006*\"jews\" + '\n",
      "  '0.005*\"thousands\" + 0.005*\"president\"'),\n",
      " (6,\n",
      "  '0.028*\"ukraine\" + 0.022*\"russia\" + 0.011*\"forces\" + 0.009*\"need\" + '\n",
      "  '0.008*\"europe\" + 0.008*\"russian\" + 0.007*\"eastern\" + 0.007*\"putin\" + '\n",
      "  '0.007*\"nuclear\" + 0.006*\"president\"'),\n",
      " (7,\n",
      "  '0.030*\"russia\" + 0.027*\"ukraine\" + 0.007*\"russian\" + 0.006*\"time\" + '\n",
      "  '0.006*\"great\" + 0.006*\"need\" + 0.006*\"world\" + 0.005*\"invasion\" + '\n",
      "  '0.005*\"president\" + 0.005*\"russias\"')]\n",
      "[(0,\n",
      "  '0.020*\"russia\" + 0.016*\"ukraine\" + 0.011*\"russian\" + 0.009*\"president\" + '\n",
      "  '0.008*\"video\" + 0.007*\"invasion\" + 0.007*\"nuclear\" + 0.006*\"world\" + '\n",
      "  '0.006*\"released\" + 0.006*\"europe\"'),\n",
      " (1,\n",
      "  '0.015*\"crimea\" + 0.013*\"ukraine\" + 0.012*\"russian\" + 0.010*\"peninsula\" + '\n",
      "  '0.008*\"ukrainian\" + 0.008*\"russia\" + 0.008*\"latest\" + 0.008*\"occupied\" + '\n",
      "  '0.008*\"base\" + 0.007*\"military\"'),\n",
      " (2,\n",
      "  '0.010*\"russia\" + 0.009*\"russian\" + 0.007*\"ukraine\" + 0.007*\"occupied\" + '\n",
      "  '0.007*\"nuclear\" + 0.007*\"weapons\" + 0.007*\"today\" + 0.007*\"would\" + '\n",
      "  '0.005*\"ukrainians\" + 0.005*\"special\"'),\n",
      " (3,\n",
      "  '0.036*\"ukraine\" + 0.024*\"russia\" + 0.007*\"care\" + 0.007*\"health\" + '\n",
      "  '0.007*\"invasion\" + 0.006*\"august\" + 0.006*\"attacks\" + 0.006*\"russian\" + '\n",
      "  '0.006*\"that\" + 0.005*\"would\"'),\n",
      " (4,\n",
      "  '0.016*\"russians\" + 0.013*\"ukraine\" + 0.012*\"ukrainian\" + 0.012*\"russia\" + '\n",
      "  '0.008*\"crimea\" + 0.005*\"defense\" + 0.005*\"would\" + 0.005*\"forces\" + '\n",
      "  '0.005*\"putin\" + 0.005*\"bullshit\"'),\n",
      " (5,\n",
      "  '0.063*\"ukraine\" + 0.063*\"russia\" + 0.008*\"russian\" + 0.007*\"news\" + '\n",
      "  '0.007*\"jews\" + 0.007*\"says\" + 0.006*\"persecution\" + 0.006*\"thousands\" + '\n",
      "  '0.006*\"nuclear\" + 0.006*\"amid\"'),\n",
      " (6,\n",
      "  '0.025*\"ukraine\" + 0.018*\"russian\" + 0.014*\"russia\" + 0.013*\"putin\" + '\n",
      "  '0.010*\"forces\" + 0.007*\"mass\" + 0.007*\"latest\" + 0.006*\"invasion\" + '\n",
      "  '0.005*\"ukrainian\" + 0.005*\"region\"'),\n",
      " (7,\n",
      "  '0.026*\"ukraine\" + 0.021*\"russia\" + 0.013*\"russian\" + 0.011*\"ukrainian\" + '\n",
      "  '0.011*\"crimea\" + 0.011*\"news\" + 0.009*\"military\" + 0.009*\"food\" + '\n",
      "  '0.009*\"sabotage\" + 0.007*\"invasion\"'),\n",
      " (8,\n",
      "  '0.026*\"ukraine\" + 0.020*\"russia\" + 0.012*\"russian\" + 0.009*\"invasion\" + '\n",
      "  '0.008*\"sabotage\" + 0.007*\"forces\" + 0.007*\"says\" + 0.007*\"ruzzia\" + '\n",
      "  '0.007*\"need\" + 0.007*\"russians\"')]\n",
      "[(0,\n",
      "  '0.025*\"ukraine\" + 0.014*\"crimea\" + 0.014*\"russia\" + 0.009*\"russian\" + '\n",
      "  '0.008*\"forces\" + 0.007*\"military\" + 0.007*\"sabotage\" + 0.007*\"health\" + '\n",
      "  '0.007*\"peninsula\" + 0.007*\"attacks\"'),\n",
      " (1,\n",
      "  '0.015*\"russia\" + 0.008*\"ukraine\" + 0.007*\"well\" + 0.007*\"chief\" + '\n",
      "  '0.007*\"explosions\" + 0.007*\"crimea\" + 0.007*\"ukrainian\" + 0.006*\"invasion\" '\n",
      "  '+ 0.005*\"would\" + 0.005*\"former\"'),\n",
      " (2,\n",
      "  '0.027*\"ukraine\" + 0.024*\"russia\" + 0.011*\"latest\" + 0.009*\"russian\" + '\n",
      "  '0.008*\"region\" + 0.008*\"ukrainian\" + 0.007*\"says\" + 0.007*\"need\" + '\n",
      "  '0.007*\"nuclear\" + 0.006*\"forces\"'),\n",
      " (3,\n",
      "  '0.022*\"russia\" + 0.014*\"ukraine\" + 0.010*\"russian\" + 0.007*\"president\" + '\n",
      "  '0.007*\"military\" + 0.006*\"true\" + 0.006*\"drones\" + 0.006*\"iran\" + '\n",
      "  '0.006*\"behind\" + 0.005*\"ukrainian\"'),\n",
      " (4,\n",
      "  '0.022*\"russia\" + 0.021*\"ukraine\" + 0.010*\"russias\" + 0.010*\"lines\" + '\n",
      "  '0.009*\"nuclear\" + 0.009*\"york\" + 0.009*\"times\" + 0.008*\"sanctions\" + '\n",
      "  '0.008*\"would\" + 0.007*\"invasion\"'),\n",
      " (5,\n",
      "  '0.039*\"ukraine\" + 0.032*\"russia\" + 0.020*\"russian\" + 0.012*\"invasion\" + '\n",
      "  '0.012*\"crimea\" + 0.010*\"nuclear\" + 0.008*\"sabotage\" + 0.008*\"need\" + '\n",
      "  '0.008*\"blasts\" + 0.006*\"live\"'),\n",
      " (6,\n",
      "  '0.034*\"ukraine\" + 0.033*\"russia\" + 0.015*\"russian\" + 0.007*\"place\" + '\n",
      "  '0.006*\"also\" + 0.005*\"would\" + 0.005*\"first\" + 0.005*\"versus\" + '\n",
      "  '0.005*\"take\" + 0.005*\"german\"'),\n",
      " (7,\n",
      "  '0.025*\"ukraine\" + 0.023*\"russia\" + 0.014*\"russians\" + 0.010*\"putin\" + '\n",
      "  '0.007*\"send\" + 0.007*\"russian\" + 0.006*\"ukrainian\" + 0.005*\"many\" + '\n",
      "  '0.005*\"iran\" + 0.005*\"dead\"'),\n",
      " (8,\n",
      "  '0.036*\"russia\" + 0.034*\"ukraine\" + 0.009*\"russian\" + 0.009*\"putin\" + '\n",
      "  '0.008*\"fears\" + 0.007*\"thousands\" + 0.007*\"jews\" + 0.007*\"amid\" + '\n",
      "  '0.007*\"persecution\" + 0.007*\"check\"'),\n",
      " (9,\n",
      "  '0.040*\"ukraine\" + 0.016*\"russia\" + 0.015*\"russian\" + 0.009*\"ukrainian\" + '\n",
      "  '0.007*\"ship\" + 0.007*\"news\" + 0.007*\"ruzzia\" + 0.007*\"first\" + '\n",
      "  '0.006*\"putin\" + 0.006*\"says\"')]\n",
      "[(0,\n",
      "  '0.026*\"ukraine\" + 0.019*\"russia\" + 0.011*\"russian\" + 0.006*\"president\" + '\n",
      "  '0.006*\"invasion\" + 0.006*\"million\" + 0.006*\"york\" + 0.006*\"though\" + '\n",
      "  '0.006*\"destroy\" + 0.006*\"update\"'),\n",
      " (1,\n",
      "  '0.039*\"russia\" + 0.038*\"ukraine\" + 0.015*\"need\" + 0.011*\"crimea\" + '\n",
      "  '0.008*\"help\" + 0.007*\"would\" + 0.007*\"nuclear\" + 0.007*\"weapons\" + '\n",
      "  '0.007*\"times\" + 0.007*\"york\"'),\n",
      " (2,\n",
      "  '0.041*\"ukraine\" + 0.024*\"russia\" + 0.014*\"news\" + 0.011*\"russian\" + '\n",
      "  '0.010*\"putin\" + 0.009*\"nuclear\" + 0.008*\"ukrainian\" + 0.007*\"town\" + '\n",
      "  '0.006*\"russians\" + 0.006*\"says\"'),\n",
      " (3,\n",
      "  '0.023*\"ukraine\" + 0.019*\"russia\" + 0.010*\"latest\" + 0.008*\"crimea\" + '\n",
      "  '0.008*\"ukrainian\" + 0.007*\"anti\" + 0.006*\"live\" + 0.005*\"battalion\" + '\n",
      "  '0.005*\"territory\" + 0.005*\"region\"'),\n",
      " (4,\n",
      "  '0.026*\"russia\" + 0.025*\"ukraine\" + 0.017*\"invasion\" + 0.011*\"verified\" + '\n",
      "  '0.010*\"health\" + 0.010*\"care\" + 0.007*\"western\" + 0.007*\"donetsk\" + '\n",
      "  '0.007*\"leader\" + 0.007*\"korea\"'),\n",
      " (5,\n",
      "  '0.012*\"already\" + 0.009*\"would\" + 0.009*\"please\" + 0.009*\"send\" + '\n",
      "  '0.009*\"since\" + 0.009*\"conflict\" + 0.009*\"real\" + 0.007*\"russia\" + '\n",
      "  '0.007*\"check\" + 0.007*\"ukraine\"'),\n",
      " (6,\n",
      "  '0.015*\"russia\" + 0.014*\"week\" + 0.011*\"ukraine\" + 0.009*\"must\" + '\n",
      "  '0.009*\"offensive\" + 0.009*\"support\" + 0.008*\"president\" + 0.008*\"europe\" + '\n",
      "  '0.008*\"last\" + 0.006*\"next\"'),\n",
      " (7,\n",
      "  '0.039*\"ukraine\" + 0.026*\"russia\" + 0.024*\"russian\" + 0.008*\"military\" + '\n",
      "  '0.008*\"putin\" + 0.007*\"invasion\" + 0.007*\"plans\" + 0.007*\"also\" + '\n",
      "  '0.007*\"video\" + 0.006*\"president\"'),\n",
      " (8,\n",
      "  '0.028*\"russia\" + 0.021*\"ukraine\" + 0.011*\"russian\" + 0.010*\"amid\" + '\n",
      "  '0.007*\"busy\" + 0.007*\"graves\" + 0.007*\"jews\" + 0.007*\"immediately\" + '\n",
      "  '0.007*\"persecution\" + 0.007*\"mass\"'),\n",
      " (9,\n",
      "  '0.023*\"russia\" + 0.022*\"ukraine\" + 0.010*\"great\" + 0.010*\"russians\" + '\n",
      "  '0.009*\"iran\" + 0.008*\"russian\" + 0.007*\"many\" + 0.007*\"want\" + 0.007*\"like\" '\n",
      "  '+ 0.007*\"supply\"'),\n",
      " (10,\n",
      "  '0.035*\"ukraine\" + 0.033*\"russia\" + 0.021*\"russian\" + 0.019*\"forces\" + '\n",
      "  '0.008*\"crimea\" + 0.008*\"ukrainian\" + 0.007*\"region\" + 0.007*\"sabotage\" + '\n",
      "  '0.005*\"zaporizhzhia\" + 0.005*\"eastern\"')]\n"
     ]
    }
   ],
   "source": [
    "coherence_lda_df = []\n",
    "for country in countries:\n",
    "    df_country = df[df['topics'] == country]\n",
    "    data_words = list(sent_to_words(df_country['tweet_clean']))\n",
    "    # Create Dictionary\n",
    "    id2word = corpora.Dictionary(data_words)\n",
    "    # Create Corpus\n",
    "    texts = data_words\n",
    "    # Term Document Frequency\n",
    "    corpus = [id2word.doc2bow(text) for text in texts]\n",
    "    # View\n",
    "    # print(corpus[:1][0][:30])\n",
    "    # number of topics\n",
    "    # num_topics = 8\n",
    "    # Build LDA model\n",
    "    for num_topics in range(6, 12):\n",
    "        lda_model = gensim.models.LdaMulticore(corpus=corpus,\n",
    "                                            id2word=id2word,\n",
    "                                            num_topics=num_topics)\n",
    "        # Print the Keyword in the 10 topics\n",
    "        pprint(lda_model.print_topics())\n",
    "        doc_lda = lda_model[corpus]\n",
    "        # Visualize the topics\n",
    "        pyLDAvis.enable_notebook()\n",
    "        LDAvis_data_filepath = f'./topic_modeling/{country}'\n",
    "        # # this is a bit time consuming - make the if statement True\n",
    "        # # if you want to execute visualization prep yourself\n",
    "        if 1 == 1:\n",
    "            LDAvis_prepared = pyLDAvis.gensim.prepare(lda_model, corpus, id2word)\n",
    "            with open(LDAvis_data_filepath, 'wb') as f:\n",
    "                pickle.dump(LDAvis_prepared, f)\n",
    "        # load the pre-prepared pyLDAvis data from disk\n",
    "        with open(LDAvis_data_filepath, 'rb') as f:\n",
    "            LDAvis_prepared = pickle.load(f)\n",
    "        pyLDAvis.save_html(LDAvis_prepared, f'./topic_modeling_viz/{country}_topics_{num_topics}.html')\n",
    "\n",
    "        coherence_model_lda = CoherenceModel(model=lda_model, \n",
    "                                        texts=texts, \n",
    "                                        dictionary=id2word, \n",
    "                                        coherence='c_v')\n",
    "        coherence_lda = coherence_model_lda.get_coherence()\n",
    "        coherence_lda_df.append([num_topics, coherence_lda, country])\n",
    "        LDAvis_prepared"
   ]
  },
  {
   "cell_type": "code",
   "execution_count": 55,
   "metadata": {},
   "outputs": [],
   "source": [
    "coherence_lda_df_pd = pd.DataFrame(coherence_lda_df, columns=['Number of topics', 'Coherence', 'Topic'])"
   ]
  },
  {
   "cell_type": "code",
   "execution_count": 56,
   "metadata": {},
   "outputs": [
    {
     "data": {
      "text/html": [
       "<div>\n",
       "<style scoped>\n",
       "    .dataframe tbody tr th:only-of-type {\n",
       "        vertical-align: middle;\n",
       "    }\n",
       "\n",
       "    .dataframe tbody tr th {\n",
       "        vertical-align: top;\n",
       "    }\n",
       "\n",
       "    .dataframe thead th {\n",
       "        text-align: right;\n",
       "    }\n",
       "</style>\n",
       "<table border=\"1\" class=\"dataframe\">\n",
       "  <thead>\n",
       "    <tr style=\"text-align: right;\">\n",
       "      <th></th>\n",
       "      <th>Number of topics</th>\n",
       "      <th>Coherence</th>\n",
       "      <th>Topic</th>\n",
       "    </tr>\n",
       "  </thead>\n",
       "  <tbody>\n",
       "    <tr>\n",
       "      <th>0</th>\n",
       "      <td>6</td>\n",
       "      <td>0.427906</td>\n",
       "      <td>Europe</td>\n",
       "    </tr>\n",
       "    <tr>\n",
       "      <th>1</th>\n",
       "      <td>7</td>\n",
       "      <td>0.426211</td>\n",
       "      <td>Europe</td>\n",
       "    </tr>\n",
       "    <tr>\n",
       "      <th>2</th>\n",
       "      <td>8</td>\n",
       "      <td>0.415115</td>\n",
       "      <td>Europe</td>\n",
       "    </tr>\n",
       "    <tr>\n",
       "      <th>3</th>\n",
       "      <td>9</td>\n",
       "      <td>0.404516</td>\n",
       "      <td>Europe</td>\n",
       "    </tr>\n",
       "    <tr>\n",
       "      <th>4</th>\n",
       "      <td>10</td>\n",
       "      <td>0.417860</td>\n",
       "      <td>Europe</td>\n",
       "    </tr>\n",
       "    <tr>\n",
       "      <th>5</th>\n",
       "      <td>11</td>\n",
       "      <td>0.431219</td>\n",
       "      <td>Europe</td>\n",
       "    </tr>\n",
       "    <tr>\n",
       "      <th>6</th>\n",
       "      <td>6</td>\n",
       "      <td>0.596759</td>\n",
       "      <td>Africa</td>\n",
       "    </tr>\n",
       "    <tr>\n",
       "      <th>7</th>\n",
       "      <td>7</td>\n",
       "      <td>0.532127</td>\n",
       "      <td>Africa</td>\n",
       "    </tr>\n",
       "    <tr>\n",
       "      <th>8</th>\n",
       "      <td>8</td>\n",
       "      <td>0.556368</td>\n",
       "      <td>Africa</td>\n",
       "    </tr>\n",
       "    <tr>\n",
       "      <th>9</th>\n",
       "      <td>9</td>\n",
       "      <td>0.496103</td>\n",
       "      <td>Africa</td>\n",
       "    </tr>\n",
       "    <tr>\n",
       "      <th>10</th>\n",
       "      <td>10</td>\n",
       "      <td>0.508918</td>\n",
       "      <td>Africa</td>\n",
       "    </tr>\n",
       "    <tr>\n",
       "      <th>11</th>\n",
       "      <td>11</td>\n",
       "      <td>0.523594</td>\n",
       "      <td>Africa</td>\n",
       "    </tr>\n",
       "    <tr>\n",
       "      <th>12</th>\n",
       "      <td>6</td>\n",
       "      <td>0.457184</td>\n",
       "      <td>Middle East</td>\n",
       "    </tr>\n",
       "    <tr>\n",
       "      <th>13</th>\n",
       "      <td>7</td>\n",
       "      <td>0.456354</td>\n",
       "      <td>Middle East</td>\n",
       "    </tr>\n",
       "    <tr>\n",
       "      <th>14</th>\n",
       "      <td>8</td>\n",
       "      <td>0.398112</td>\n",
       "      <td>Middle East</td>\n",
       "    </tr>\n",
       "    <tr>\n",
       "      <th>15</th>\n",
       "      <td>9</td>\n",
       "      <td>0.418062</td>\n",
       "      <td>Middle East</td>\n",
       "    </tr>\n",
       "    <tr>\n",
       "      <th>16</th>\n",
       "      <td>10</td>\n",
       "      <td>0.370652</td>\n",
       "      <td>Middle East</td>\n",
       "    </tr>\n",
       "    <tr>\n",
       "      <th>17</th>\n",
       "      <td>11</td>\n",
       "      <td>0.393842</td>\n",
       "      <td>Middle East</td>\n",
       "    </tr>\n",
       "    <tr>\n",
       "      <th>18</th>\n",
       "      <td>6</td>\n",
       "      <td>0.442986</td>\n",
       "      <td>USA</td>\n",
       "    </tr>\n",
       "    <tr>\n",
       "      <th>19</th>\n",
       "      <td>7</td>\n",
       "      <td>0.428053</td>\n",
       "      <td>USA</td>\n",
       "    </tr>\n",
       "    <tr>\n",
       "      <th>20</th>\n",
       "      <td>8</td>\n",
       "      <td>0.439544</td>\n",
       "      <td>USA</td>\n",
       "    </tr>\n",
       "    <tr>\n",
       "      <th>21</th>\n",
       "      <td>9</td>\n",
       "      <td>0.421988</td>\n",
       "      <td>USA</td>\n",
       "    </tr>\n",
       "    <tr>\n",
       "      <th>22</th>\n",
       "      <td>10</td>\n",
       "      <td>0.466234</td>\n",
       "      <td>USA</td>\n",
       "    </tr>\n",
       "    <tr>\n",
       "      <th>23</th>\n",
       "      <td>11</td>\n",
       "      <td>0.435088</td>\n",
       "      <td>USA</td>\n",
       "    </tr>\n",
       "  </tbody>\n",
       "</table>\n",
       "</div>"
      ],
      "text/plain": [
       "    Number of topics  Coherence        Topic\n",
       "0                  6   0.427906       Europe\n",
       "1                  7   0.426211       Europe\n",
       "2                  8   0.415115       Europe\n",
       "3                  9   0.404516       Europe\n",
       "4                 10   0.417860       Europe\n",
       "5                 11   0.431219       Europe\n",
       "6                  6   0.596759       Africa\n",
       "7                  7   0.532127       Africa\n",
       "8                  8   0.556368       Africa\n",
       "9                  9   0.496103       Africa\n",
       "10                10   0.508918       Africa\n",
       "11                11   0.523594       Africa\n",
       "12                 6   0.457184  Middle East\n",
       "13                 7   0.456354  Middle East\n",
       "14                 8   0.398112  Middle East\n",
       "15                 9   0.418062  Middle East\n",
       "16                10   0.370652  Middle East\n",
       "17                11   0.393842  Middle East\n",
       "18                 6   0.442986          USA\n",
       "19                 7   0.428053          USA\n",
       "20                 8   0.439544          USA\n",
       "21                 9   0.421988          USA\n",
       "22                10   0.466234          USA\n",
       "23                11   0.435088          USA"
      ]
     },
     "execution_count": 56,
     "metadata": {},
     "output_type": "execute_result"
    }
   ],
   "source": [
    "coherence_lda_df_pd"
   ]
  },
  {
   "cell_type": "code",
   "execution_count": 61,
   "metadata": {},
   "outputs": [
    {
     "data": {
      "text/plain": [
       "['Europe', 'Africa', 'Middle East', 'USA']"
      ]
     },
     "execution_count": 61,
     "metadata": {},
     "output_type": "execute_result"
    }
   ],
   "source": [
    "countries"
   ]
  },
  {
   "cell_type": "code",
   "execution_count": 64,
   "metadata": {},
   "outputs": [
    {
     "name": "stdout",
     "output_type": "stream",
     "text": [
      "Europe\n",
      "Africa\n",
      "Middle East\n",
      "USA\n"
     ]
    },
    {
     "data": {
      "image/png": "[encoded data removed]",
      "text/plain": [
       "<Figure size 432x288 with 1 Axes>"
      ]
     },
     "metadata": {
      "needs_background": "light"
     },
     "output_type": "display_data"
    },
    {
     "data": {
      "image/png": "[encoded data removed]",
      "text/plain": [
       "<Figure size 432x288 with 1 Axes>"
      ]
     },
     "metadata": {
      "needs_background": "light"
     },
     "output_type": "display_data"
    },
    {
     "data": {
      "image/png": "[encoded data removed]",
      "text/plain": [
       "<Figure size 432x288 with 1 Axes>"
      ]
     },
     "metadata": {
      "needs_background": "light"
     },
     "output_type": "display_data"
    },
    {
     "data": {
      "image/png": "[encoded data removed]",
      "text/plain": [
       "<Figure size 432x288 with 1 Axes>"
      ]
     },
     "metadata": {
      "needs_background": "light"
     },
     "output_type": "display_data"
    }
   ],
   "source": [
    "for county in countries:\n",
    "    print(county)\n",
    "    vizualize_coherence = coherence_lda_df_pd[coherence_lda_df_pd['Topic'] == county]\n",
    "    vizualize_coherence.plot.line(x='Number of topics', y='Coherence', rot=0, title=county)"
   ]
  },
  {
   "cell_type": "markdown",
   "metadata": {},
   "source": [
    "## BERTopic"
   ]
  },
  {
   "cell_type": "code",
   "execution_count": 81,
   "metadata": {},
   "outputs": [],
   "source": [
    "from bertopic import BERTopic\n",
    "\n",
    "docs = []\n",
    "for country in countries:\n",
    "    df_country = df[df['topics'] == country]\n",
    "    df_country = df_country['tweet_clean'].tolist()\n",
    "    df_country = [text.lower() for text in df_country if type(text) == str]\n",
    "    docs.extend(df_country)\n"
   ]
  },
  {
   "cell_type": "code",
   "execution_count": 82,
   "metadata": {},
   "outputs": [
    {
     "data": {
      "application/vnd.jupyter.widget-view+json": {
       "model_id": "da7329f52a594eeebd0c8a58eaf5a39e",
       "version_major": 2,
       "version_minor": 0
      },
      "text/plain": [
       "Batches:   0%|          | 0/27 [00:00<?, ?it/s]"
      ]
     },
     "metadata": {},
     "output_type": "display_data"
    },
    {
     "name": "stderr",
     "output_type": "stream",
     "text": [
      "2022-08-27 19:49:26,574 - BERTopic - Transformed documents to Embeddings\n",
      "2022-08-27 19:49:29,311 - BERTopic - Reduced dimensionality\n",
      "2022-08-27 19:49:29,416 - BERTopic - Clustered reduced embeddings\n"
     ]
    }
   ],
   "source": [
    "topic_model = BERTopic(language=\"english\", calculate_probabilities=True, verbose=True)\n",
    "topics, probs = topic_model.fit_transform(docs)"
   ]
  },
  {
   "cell_type": "code",
   "execution_count": 83,
   "metadata": {},
   "outputs": [
    {
     "data": {
      "text/html": [
       "<div>\n",
       "<style scoped>\n",
       "    .dataframe tbody tr th:only-of-type {\n",
       "        vertical-align: middle;\n",
       "    }\n",
       "\n",
       "    .dataframe tbody tr th {\n",
       "        vertical-align: top;\n",
       "    }\n",
       "\n",
       "    .dataframe thead th {\n",
       "        text-align: right;\n",
       "    }\n",
       "</style>\n",
       "<table border=\"1\" class=\"dataframe\">\n",
       "  <thead>\n",
       "    <tr style=\"text-align: right;\">\n",
       "      <th></th>\n",
       "      <th>Topic</th>\n",
       "      <th>Count</th>\n",
       "      <th>Name</th>\n",
       "    </tr>\n",
       "  </thead>\n",
       "  <tbody>\n",
       "    <tr>\n",
       "      <th>0</th>\n",
       "      <td>-1</td>\n",
       "      <td>260</td>\n",
       "      <td>-1_russia_russian_ukraine_ukrainian</td>\n",
       "    </tr>\n",
       "    <tr>\n",
       "      <th>1</th>\n",
       "      <td>0</td>\n",
       "      <td>81</td>\n",
       "      <td>0_crimea_sabotage_highlights_woes</td>\n",
       "    </tr>\n",
       "    <tr>\n",
       "      <th>2</th>\n",
       "      <td>1</td>\n",
       "      <td>79</td>\n",
       "      <td>1_forces_region_destroyed_armed</td>\n",
       "    </tr>\n",
       "    <tr>\n",
       "      <th>3</th>\n",
       "      <td>2</td>\n",
       "      <td>44</td>\n",
       "      <td>2_invasion_ukraine_sanctions_energy</td>\n",
       "    </tr>\n",
       "    <tr>\n",
       "      <th>4</th>\n",
       "      <td>3</td>\n",
       "      <td>43</td>\n",
       "      <td>3_conflict_discover_music_love</td>\n",
       "    </tr>\n",
       "  </tbody>\n",
       "</table>\n",
       "</div>"
      ],
      "text/plain": [
       "   Topic  Count                                 Name\n",
       "0     -1    260  -1_russia_russian_ukraine_ukrainian\n",
       "1      0     81    0_crimea_sabotage_highlights_woes\n",
       "2      1     79      1_forces_region_destroyed_armed\n",
       "3      2     44  2_invasion_ukraine_sanctions_energy\n",
       "4      3     43       3_conflict_discover_music_love"
      ]
     },
     "execution_count": 83,
     "metadata": {},
     "output_type": "execute_result"
    }
   ],
   "source": [
    "freq = topic_model.get_topic_info(); freq.head(5)"
   ]
  },
  {
   "cell_type": "code",
   "execution_count": 84,
   "metadata": {},
   "outputs": [
    {
     "name": "stderr",
     "output_type": "stream",
     "text": [
      "c:\\Users\\Risto Trajanov\\anaconda3\\envs\\myenv\\lib\\site-packages\\plotly\\io\\_renderers.py:395: DeprecationWarning:\n",
      "\n",
      "distutils Version classes are deprecated. Use packaging.version instead.\n",
      "\n",
      "c:\\Users\\Risto Trajanov\\anaconda3\\envs\\myenv\\lib\\site-packages\\plotly\\io\\_renderers.py:395: DeprecationWarning:\n",
      "\n",
      "distutils Version classes are deprecated. Use packaging.version instead.\n",
      "\n"
     ]
    },
    {
     "data": {
      "application/vnd.plotly.v1+json": {
       "config": {
        "plotlyServerURL": "https://plot.ly"
       },
       "data": [
        {
         "customdata": [
          [
           0,
           "crimea | sabotage | highlights | woes | explosions",
           81
          ],
          [
           1,
           "forces | region | destroyed | armed | russian",
           79
          ],
          [
           2,
           "invasion | ukraine | sanctions | energy | russias",
           44
          ],
          [
           3,
           "conflict | discover | music | love | want",
           43
          ],
          [
           4,
           "food | crisis | grain | world | global",
           40
          ],
          [
           5,
           "russians | ukraine | russia | russian | stupid",
           38
          ],
          [
           6,
           "nuclear | power | website | company | says",
           32
          ],
          [
           7,
           "ukraine | people | league | right | left",
           30
          ],
          [
           8,
           "zelensky | president | meet | erdogan | volodymyr",
           27
          ],
          [
           9,
           "jews | persecution | quit | fears | thousands",
           24
          ],
          [
           10,
           "lines | safe | tell | enemy | behind",
           22
          ],
          [
           11,
           "looking | please | follow | item | check",
           20
          ],
          [
           12,
           "shelter | dogs | funds | animal | animalspaypal",
           19
          ],
          [
           13,
           "signed | petition | rights | workers | week",
           18
          ],
          [
           14,
           "news | update | updates | 1622 | prokopchuk",
           18
          ],
          [
           15,
           "invasion | know | invade | latest | knew",
           16
          ],
          [
           16,
           "almost | months | isolate | wanes | action",
           13
          ],
          [
           17,
           "082022 | verified | putz | proof | putin",
           12
          ],
          [
           18,
           "leader | north | korea | donetsk | cooperation",
           12
          ],
          [
           19,
           "0807 | 3945month | 4605 | 4834today | ctoday",
           12
          ]
         ],
         "hovertemplate": "<b>Topic %{customdata[0]}</b><br>Words: %{customdata[1]}<br>Size: %{customdata[2]}",
         "legendgroup": "",
         "marker": {
          "color": "#B0BEC5",
          "line": {
           "color": "DarkSlateGrey",
           "width": 2
          },
          "size": [
           81,
           79,
           44,
           43,
           40,
           38,
           32,
           30,
           27,
           24,
           22,
           20,
           19,
           18,
           18,
           16,
           13,
           12,
           12,
           12
          ],
          "sizemode": "area",
          "sizeref": 0.050625,
          "symbol": "circle"
         },
         "mode": "markers",
         "name": "",
         "orientation": "v",
         "showlegend": false,
         "type": "scatter",
         "x": [
          6.388921737670898,
          6.722641944885254,
          -0.1850908398628235,
          2.606229782104492,
          -0.37552115321159363,
          0.6844228506088257,
          6.145811080932617,
          1.5472147464752197,
          7.330282688140869,
          -0.5671389102935791,
          6.924577236175537,
          -5.754678249359131,
          2.8876655101776123,
          -6.007420539855957,
          6.1106953620910645,
          1.8704934120178223,
          1.8724604845046997,
          -0.4422541558742523,
          6.268885135650635,
          -5.989624977111816
         ],
         "xaxis": "x",
         "y": [
          -6.880189895629883,
          -6.938307762145996,
          6.012608528137207,
          6.053775310516357,
          5.894316673278809,
          5.586796283721924,
          -6.334053039550781,
          5.343978404998779,
          -7.121889591217041,
          5.3515238761901855,
          -6.576496124267578,
          8.598686218261719,
          6.380502223968506,
          8.418342590332031,
          -5.917895793914795,
          5.592072486877441,
          5.913154602050781,
          5.008116245269775,
          -5.557068347930908,
          8.160902976989746
         ],
         "yaxis": "y"
        }
       ],
       "layout": {
        "annotations": [
         {
          "showarrow": false,
          "text": "D1",
          "x": -6.90853362083435,
          "y": 0.8491580605506899,
          "yshift": 10
         },
         {
          "showarrow": false,
          "text": "D2",
          "x": 0.7606457352638247,
          "xshift": 10,
          "y": 9.888489151000977
         }
        ],
        "height": 650,
        "hoverlabel": {
         "bgcolor": "white",
         "font": {
          "family": "Rockwell",
          "size": 16
         }
        },
        "legend": {
         "itemsizing": "constant",
         "tracegroupgap": 0
        },
        "margin": {
         "t": 60
        },
        "shapes": [
         {
          "line": {
           "color": "#CFD8DC",
           "width": 2
          },
          "type": "line",
          "x0": 0.7606457352638247,
          "x1": 0.7606457352638247,
          "y0": -8.190173029899597,
          "y1": 9.888489151000977
         },
         {
          "line": {
           "color": "#9E9E9E",
           "width": 2
          },
          "type": "line",
          "x0": -6.90853362083435,
          "x1": 8.429825091362,
          "y0": 0.8491580605506899,
          "y1": 0.8491580605506899
         }
        ],
        "sliders": [
         {
          "active": 0,
          "pad": {
           "t": 50
          },
          "steps": [
           {
            "args": [
             {
              "marker.color": [
               [
                "red",
                "#B0BEC5",
                "#B0BEC5",
                "#B0BEC5",
                "#B0BEC5",
                "#B0BEC5",
                "#B0BEC5",
                "#B0BEC5",
                "#B0BEC5",
                "#B0BEC5",
                "#B0BEC5",
                "#B0BEC5",
                "#B0BEC5",
                "#B0BEC5",
                "#B0BEC5",
                "#B0BEC5",
                "#B0BEC5",
                "#B0BEC5",
                "#B0BEC5",
                "#B0BEC5"
               ]
              ]
             }
            ],
            "label": "Topic 0",
            "method": "update"
           },
           {
            "args": [
             {
              "marker.color": [
               [
                "#B0BEC5",
                "red",
                "#B0BEC5",
                "#B0BEC5",
                "#B0BEC5",
                "#B0BEC5",
                "#B0BEC5",
                "#B0BEC5",
                "#B0BEC5",
                "#B0BEC5",
                "#B0BEC5",
                "#B0BEC5",
                "#B0BEC5",
                "#B0BEC5",
                "#B0BEC5",
                "#B0BEC5",
                "#B0BEC5",
                "#B0BEC5",
                "#B0BEC5",
                "#B0BEC5"
               ]
              ]
             }
            ],
            "label": "Topic 1",
            "method": "update"
           },
           {
            "args": [
             {
              "marker.color": [
               [
                "#B0BEC5",
                "#B0BEC5",
                "red",
                "#B0BEC5",
                "#B0BEC5",
                "#B0BEC5",
                "#B0BEC5",
                "#B0BEC5",
                "#B0BEC5",
                "#B0BEC5",
                "#B0BEC5",
                "#B0BEC5",
                "#B0BEC5",
                "#B0BEC5",
                "#B0BEC5",
                "#B0BEC5",
                "#B0BEC5",
                "#B0BEC5",
                "#B0BEC5",
                "#B0BEC5"
               ]
              ]
             }
            ],
            "label": "Topic 2",
            "method": "update"
           },
           {
            "args": [
             {
              "marker.color": [
               [
                "#B0BEC5",
                "#B0BEC5",
                "#B0BEC5",
                "red",
                "#B0BEC5",
                "#B0BEC5",
                "#B0BEC5",
                "#B0BEC5",
                "#B0BEC5",
                "#B0BEC5",
                "#B0BEC5",
                "#B0BEC5",
                "#B0BEC5",
                "#B0BEC5",
                "#B0BEC5",
                "#B0BEC5",
                "#B0BEC5",
                "#B0BEC5",
                "#B0BEC5",
                "#B0BEC5"
               ]
              ]
             }
            ],
            "label": "Topic 3",
            "method": "update"
           },
           {
            "args": [
             {
              "marker.color": [
               [
                "#B0BEC5",
                "#B0BEC5",
                "#B0BEC5",
                "#B0BEC5",
                "red",
                "#B0BEC5",
                "#B0BEC5",
                "#B0BEC5",
                "#B0BEC5",
                "#B0BEC5",
                "#B0BEC5",
                "#B0BEC5",
                "#B0BEC5",
                "#B0BEC5",
                "#B0BEC5",
                "#B0BEC5",
                "#B0BEC5",
                "#B0BEC5",
                "#B0BEC5",
                "#B0BEC5"
               ]
              ]
             }
            ],
            "label": "Topic 4",
            "method": "update"
           },
           {
            "args": [
             {
              "marker.color": [
               [
                "#B0BEC5",
                "#B0BEC5",
                "#B0BEC5",
                "#B0BEC5",
                "#B0BEC5",
                "red",
                "#B0BEC5",
                "#B0BEC5",
                "#B0BEC5",
                "#B0BEC5",
                "#B0BEC5",
                "#B0BEC5",
                "#B0BEC5",
                "#B0BEC5",
                "#B0BEC5",
                "#B0BEC5",
                "#B0BEC5",
                "#B0BEC5",
                "#B0BEC5",
                "#B0BEC5"
               ]
              ]
             }
            ],
            "label": "Topic 5",
            "method": "update"
           },
           {
            "args": [
             {
              "marker.color": [
               [
                "#B0BEC5",
                "#B0BEC5",
                "#B0BEC5",
                "#B0BEC5",
                "#B0BEC5",
                "#B0BEC5",
                "red",
                "#B0BEC5",
                "#B0BEC5",
                "#B0BEC5",
                "#B0BEC5",
                "#B0BEC5",
                "#B0BEC5",
                "#B0BEC5",
                "#B0BEC5",
                "#B0BEC5",
                "#B0BEC5",
                "#B0BEC5",
                "#B0BEC5",
                "#B0BEC5"
               ]
              ]
             }
            ],
            "label": "Topic 6",
            "method": "update"
           },
           {
            "args": [
             {
              "marker.color": [
               [
                "#B0BEC5",
                "#B0BEC5",
                "#B0BEC5",
                "#B0BEC5",
                "#B0BEC5",
                "#B0BEC5",
                "#B0BEC5",
                "red",
                "#B0BEC5",
                "#B0BEC5",
                "#B0BEC5",
                "#B0BEC5",
                "#B0BEC5",
                "#B0BEC5",
                "#B0BEC5",
                "#B0BEC5",
                "#B0BEC5",
                "#B0BEC5",
                "#B0BEC5",
                "#B0BEC5"
               ]
              ]
             }
            ],
            "label": "Topic 7",
            "method": "update"
           },
           {
            "args": [
             {
              "marker.color": [
               [
                "#B0BEC5",
                "#B0BEC5",
                "#B0BEC5",
                "#B0BEC5",
                "#B0BEC5",
                "#B0BEC5",
                "#B0BEC5",
                "#B0BEC5",
                "red",
                "#B0BEC5",
                "#B0BEC5",
                "#B0BEC5",
                "#B0BEC5",
                "#B0BEC5",
                "#B0BEC5",
                "#B0BEC5",
                "#B0BEC5",
                "#B0BEC5",
                "#B0BEC5",
                "#B0BEC5"
               ]
              ]
             }
            ],
            "label": "Topic 8",
            "method": "update"
           },
           {
            "args": [
             {
              "marker.color": [
               [
                "#B0BEC5",
                "#B0BEC5",
                "#B0BEC5",
                "#B0BEC5",
                "#B0BEC5",
                "#B0BEC5",
                "#B0BEC5",
                "#B0BEC5",
                "#B0BEC5",
                "red",
                "#B0BEC5",
                "#B0BEC5",
                "#B0BEC5",
                "#B0BEC5",
                "#B0BEC5",
                "#B0BEC5",
                "#B0BEC5",
                "#B0BEC5",
                "#B0BEC5",
                "#B0BEC5"
               ]
              ]
             }
            ],
            "label": "Topic 9",
            "method": "update"
           },
           {
            "args": [
             {
              "marker.color": [
               [
                "#B0BEC5",
                "#B0BEC5",
                "#B0BEC5",
                "#B0BEC5",
                "#B0BEC5",
                "#B0BEC5",
                "#B0BEC5",
                "#B0BEC5",
                "#B0BEC5",
                "#B0BEC5",
                "red",
                "#B0BEC5",
                "#B0BEC5",
                "#B0BEC5",
                "#B0BEC5",
                "#B0BEC5",
                "#B0BEC5",
                "#B0BEC5",
                "#B0BEC5",
                "#B0BEC5"
               ]
              ]
             }
            ],
            "label": "Topic 10",
            "method": "update"
           },
           {
            "args": [
             {
              "marker.color": [
               [
                "#B0BEC5",
                "#B0BEC5",
                "#B0BEC5",
                "#B0BEC5",
                "#B0BEC5",
                "#B0BEC5",
                "#B0BEC5",
                "#B0BEC5",
                "#B0BEC5",
                "#B0BEC5",
                "#B0BEC5",
                "red",
                "#B0BEC5",
                "#B0BEC5",
                "#B0BEC5",
                "#B0BEC5",
                "#B0BEC5",
                "#B0BEC5",
                "#B0BEC5",
                "#B0BEC5"
               ]
              ]
             }
            ],
            "label": "Topic 11",
            "method": "update"
           },
           {
            "args": [
             {
              "marker.color": [
               [
                "#B0BEC5",
                "#B0BEC5",
                "#B0BEC5",
                "#B0BEC5",
                "#B0BEC5",
                "#B0BEC5",
                "#B0BEC5",
                "#B0BEC5",
                "#B0BEC5",
                "#B0BEC5",
                "#B0BEC5",
                "#B0BEC5",
                "red",
                "#B0BEC5",
                "#B0BEC5",
                "#B0BEC5",
                "#B0BEC5",
                "#B0BEC5",
                "#B0BEC5",
                "#B0BEC5"
               ]
              ]
             }
            ],
            "label": "Topic 12",
            "method": "update"
           },
           {
            "args": [
             {
              "marker.color": [
               [
                "#B0BEC5",
                "#B0BEC5",
                "#B0BEC5",
                "#B0BEC5",
                "#B0BEC5",
                "#B0BEC5",
                "#B0BEC5",
                "#B0BEC5",
                "#B0BEC5",
                "#B0BEC5",
                "#B0BEC5",
                "#B0BEC5",
                "#B0BEC5",
                "red",
                "#B0BEC5",
                "#B0BEC5",
                "#B0BEC5",
                "#B0BEC5",
                "#B0BEC5",
                "#B0BEC5"
               ]
              ]
             }
            ],
            "label": "Topic 13",
            "method": "update"
           },
           {
            "args": [
             {
              "marker.color": [
               [
                "#B0BEC5",
                "#B0BEC5",
                "#B0BEC5",
                "#B0BEC5",
                "#B0BEC5",
                "#B0BEC5",
                "#B0BEC5",
                "#B0BEC5",
                "#B0BEC5",
                "#B0BEC5",
                "#B0BEC5",
                "#B0BEC5",
                "#B0BEC5",
                "#B0BEC5",
                "red",
                "#B0BEC5",
                "#B0BEC5",
                "#B0BEC5",
                "#B0BEC5",
                "#B0BEC5"
               ]
              ]
             }
            ],
            "label": "Topic 14",
            "method": "update"
           },
           {
            "args": [
             {
              "marker.color": [
               [
                "#B0BEC5",
                "#B0BEC5",
                "#B0BEC5",
                "#B0BEC5",
                "#B0BEC5",
                "#B0BEC5",
                "#B0BEC5",
                "#B0BEC5",
                "#B0BEC5",
                "#B0BEC5",
                "#B0BEC5",
                "#B0BEC5",
                "#B0BEC5",
                "#B0BEC5",
                "#B0BEC5",
                "red",
                "#B0BEC5",
                "#B0BEC5",
                "#B0BEC5",
                "#B0BEC5"
               ]
              ]
             }
            ],
            "label": "Topic 15",
            "method": "update"
           },
           {
            "args": [
             {
              "marker.color": [
               [
                "#B0BEC5",
                "#B0BEC5",
                "#B0BEC5",
                "#B0BEC5",
                "#B0BEC5",
                "#B0BEC5",
                "#B0BEC5",
                "#B0BEC5",
                "#B0BEC5",
                "#B0BEC5",
                "#B0BEC5",
                "#B0BEC5",
                "#B0BEC5",
                "#B0BEC5",
                "#B0BEC5",
                "#B0BEC5",
                "red",
                "#B0BEC5",
                "#B0BEC5",
                "#B0BEC5"
               ]
              ]
             }
            ],
            "label": "Topic 16",
            "method": "update"
           },
           {
            "args": [
             {
              "marker.color": [
               [
                "#B0BEC5",
                "#B0BEC5",
                "#B0BEC5",
                "#B0BEC5",
                "#B0BEC5",
                "#B0BEC5",
                "#B0BEC5",
                "#B0BEC5",
                "#B0BEC5",
                "#B0BEC5",
                "#B0BEC5",
                "#B0BEC5",
                "#B0BEC5",
                "#B0BEC5",
                "#B0BEC5",
                "#B0BEC5",
                "#B0BEC5",
                "red",
                "#B0BEC5",
                "#B0BEC5"
               ]
              ]
             }
            ],
            "label": "Topic 17",
            "method": "update"
           },
           {
            "args": [
             {
              "marker.color": [
               [
                "#B0BEC5",
                "#B0BEC5",
                "#B0BEC5",
                "#B0BEC5",
                "#B0BEC5",
                "#B0BEC5",
                "#B0BEC5",
                "#B0BEC5",
                "#B0BEC5",
                "#B0BEC5",
                "#B0BEC5",
                "#B0BEC5",
                "#B0BEC5",
                "#B0BEC5",
                "#B0BEC5",
                "#B0BEC5",
                "#B0BEC5",
                "#B0BEC5",
                "red",
                "#B0BEC5"
               ]
              ]
             }
            ],
            "label": "Topic 18",
            "method": "update"
           },
           {
            "args": [
             {
              "marker.color": [
               [
                "#B0BEC5",
                "#B0BEC5",
                "#B0BEC5",
                "#B0BEC5",
                "#B0BEC5",
                "#B0BEC5",
                "#B0BEC5",
                "#B0BEC5",
                "#B0BEC5",
                "#B0BEC5",
                "#B0BEC5",
                "#B0BEC5",
                "#B0BEC5",
                "#B0BEC5",
                "#B0BEC5",
                "#B0BEC5",
                "#B0BEC5",
                "#B0BEC5",
                "#B0BEC5",
                "red"
               ]
              ]
             }
            ],
            "label": "Topic 19",
            "method": "update"
           }
          ]
         }
        ],
        "template": {
         "data": {
          "bar": [
           {
            "error_x": {
             "color": "rgb(36,36,36)"
            },
            "error_y": {
             "color": "rgb(36,36,36)"
            },
            "marker": {
             "line": {
              "color": "white",
              "width": 0.5
             },
             "pattern": {
              "fillmode": "overlay",
              "size": 10,
              "solidity": 0.2
             }
            },
            "type": "bar"
           }
          ],
          "barpolar": [
           {
            "marker": {
             "line": {
              "color": "white",
              "width": 0.5
             },
             "pattern": {
              "fillmode": "overlay",
              "size": 10,
              "solidity": 0.2
             }
            },
            "type": "barpolar"
           }
          ],
          "carpet": [
           {
            "aaxis": {
             "endlinecolor": "rgb(36,36,36)",
             "gridcolor": "white",
             "linecolor": "white",
             "minorgridcolor": "white",
             "startlinecolor": "rgb(36,36,36)"
            },
            "baxis": {
             "endlinecolor": "rgb(36,36,36)",
             "gridcolor": "white",
             "linecolor": "white",
             "minorgridcolor": "white",
             "startlinecolor": "rgb(36,36,36)"
            },
            "type": "carpet"
           }
          ],
          "choropleth": [
           {
            "colorbar": {
             "outlinewidth": 1,
             "tickcolor": "rgb(36,36,36)",
             "ticks": "outside"
            },
            "type": "choropleth"
           }
          ],
          "contour": [
           {
            "colorbar": {
             "outlinewidth": 1,
             "tickcolor": "rgb(36,36,36)",
             "ticks": "outside"
            },
            "colorscale": [
             [
              0,
              "#440154"
             ],
             [
              0.1111111111111111,
              "#482878"
             ],
             [
              0.2222222222222222,
              "#3e4989"
             ],
             [
              0.3333333333333333,
              "#31688e"
             ],
             [
              0.4444444444444444,
              "#26828e"
             ],
             [
              0.5555555555555556,
              "#1f9e89"
             ],
             [
              0.6666666666666666,
              "#35b779"
             ],
             [
              0.7777777777777778,
              "#6ece58"
             ],
             [
              0.8888888888888888,
              "#b5de2b"
             ],
             [
              1,
              "#fde725"
             ]
            ],
            "type": "contour"
           }
          ],
          "contourcarpet": [
           {
            "colorbar": {
             "outlinewidth": 1,
             "tickcolor": "rgb(36,36,36)",
             "ticks": "outside"
            },
            "type": "contourcarpet"
           }
          ],
          "heatmap": [
           {
            "colorbar": {
             "outlinewidth": 1,
             "tickcolor": "rgb(36,36,36)",
             "ticks": "outside"
            },
            "colorscale": [
             [
              0,
              "#440154"
             ],
             [
              0.1111111111111111,
              "#482878"
             ],
             [
              0.2222222222222222,
              "#3e4989"
             ],
             [
              0.3333333333333333,
              "#31688e"
             ],
             [
              0.4444444444444444,
              "#26828e"
             ],
             [
              0.5555555555555556,
              "#1f9e89"
             ],
             [
              0.6666666666666666,
              "#35b779"
             ],
             [
              0.7777777777777778,
              "#6ece58"
             ],
             [
              0.8888888888888888,
              "#b5de2b"
             ],
             [
              1,
              "#fde725"
             ]
            ],
            "type": "heatmap"
           }
          ],
          "heatmapgl": [
           {
            "colorbar": {
             "outlinewidth": 1,
             "tickcolor": "rgb(36,36,36)",
             "ticks": "outside"
            },
            "colorscale": [
             [
              0,
              "#440154"
             ],
             [
              0.1111111111111111,
              "#482878"
             ],
             [
              0.2222222222222222,
              "#3e4989"
             ],
             [
              0.3333333333333333,
              "#31688e"
             ],
             [
              0.4444444444444444,
              "#26828e"
             ],
             [
              0.5555555555555556,
              "#1f9e89"
             ],
             [
              0.6666666666666666,
              "#35b779"
             ],
             [
              0.7777777777777778,
              "#6ece58"
             ],
             [
              0.8888888888888888,
              "#b5de2b"
             ],
             [
              1,
              "#fde725"
             ]
            ],
            "type": "heatmapgl"
           }
          ],
          "histogram": [
           {
            "marker": {
             "line": {
              "color": "white",
              "width": 0.6
             }
            },
            "type": "histogram"
           }
          ],
          "histogram2d": [
           {
            "colorbar": {
             "outlinewidth": 1,
             "tickcolor": "rgb(36,36,36)",
             "ticks": "outside"
            },
            "colorscale": [
             [
              0,
              "#440154"
             ],
             [
              0.1111111111111111,
              "#482878"
             ],
             [
              0.2222222222222222,
              "#3e4989"
             ],
             [
              0.3333333333333333,
              "#31688e"
             ],
             [
              0.4444444444444444,
              "#26828e"
             ],
             [
              0.5555555555555556,
              "#1f9e89"
             ],
             [
              0.6666666666666666,
              "#35b779"
             ],
             [
              0.7777777777777778,
              "#6ece58"
             ],
             [
              0.8888888888888888,
              "#b5de2b"
             ],
             [
              1,
              "#fde725"
             ]
            ],
            "type": "histogram2d"
           }
          ],
          "histogram2dcontour": [
           {
            "colorbar": {
             "outlinewidth": 1,
             "tickcolor": "rgb(36,36,36)",
             "ticks": "outside"
            },
            "colorscale": [
             [
              0,
              "#440154"
             ],
             [
              0.1111111111111111,
              "#482878"
             ],
             [
              0.2222222222222222,
              "#3e4989"
             ],
             [
              0.3333333333333333,
              "#31688e"
             ],
             [
              0.4444444444444444,
              "#26828e"
             ],
             [
              0.5555555555555556,
              "#1f9e89"
             ],
             [
              0.6666666666666666,
              "#35b779"
             ],
             [
              0.7777777777777778,
              "#6ece58"
             ],
             [
              0.8888888888888888,
              "#b5de2b"
             ],
             [
              1,
              "#fde725"
             ]
            ],
            "type": "histogram2dcontour"
           }
          ],
          "mesh3d": [
           {
            "colorbar": {
             "outlinewidth": 1,
             "tickcolor": "rgb(36,36,36)",
             "ticks": "outside"
            },
            "type": "mesh3d"
           }
          ],
          "parcoords": [
           {
            "line": {
             "colorbar": {
              "outlinewidth": 1,
              "tickcolor": "rgb(36,36,36)",
              "ticks": "outside"
             }
            },
            "type": "parcoords"
           }
          ],
          "pie": [
           {
            "automargin": true,
            "type": "pie"
           }
          ],
          "scatter": [
           {
            "fillpattern": {
             "fillmode": "overlay",
             "size": 10,
             "solidity": 0.2
            },
            "type": "scatter"
           }
          ],
          "scatter3d": [
           {
            "line": {
             "colorbar": {
              "outlinewidth": 1,
              "tickcolor": "rgb(36,36,36)",
              "ticks": "outside"
             }
            },
            "marker": {
             "colorbar": {
              "outlinewidth": 1,
              "tickcolor": "rgb(36,36,36)",
              "ticks": "outside"
             }
            },
            "type": "scatter3d"
           }
          ],
          "scattercarpet": [
           {
            "marker": {
             "colorbar": {
              "outlinewidth": 1,
              "tickcolor": "rgb(36,36,36)",
              "ticks": "outside"
             }
            },
            "type": "scattercarpet"
           }
          ],
          "scattergeo": [
           {
            "marker": {
             "colorbar": {
              "outlinewidth": 1,
              "tickcolor": "rgb(36,36,36)",
              "ticks": "outside"
             }
            },
            "type": "scattergeo"
           }
          ],
          "scattergl": [
           {
            "marker": {
             "colorbar": {
              "outlinewidth": 1,
              "tickcolor": "rgb(36,36,36)",
              "ticks": "outside"
             }
            },
            "type": "scattergl"
           }
          ],
          "scattermapbox": [
           {
            "marker": {
             "colorbar": {
              "outlinewidth": 1,
              "tickcolor": "rgb(36,36,36)",
              "ticks": "outside"
             }
            },
            "type": "scattermapbox"
           }
          ],
          "scatterpolar": [
           {
            "marker": {
             "colorbar": {
              "outlinewidth": 1,
              "tickcolor": "rgb(36,36,36)",
              "ticks": "outside"
             }
            },
            "type": "scatterpolar"
           }
          ],
          "scatterpolargl": [
           {
            "marker": {
             "colorbar": {
              "outlinewidth": 1,
              "tickcolor": "rgb(36,36,36)",
              "ticks": "outside"
             }
            },
            "type": "scatterpolargl"
           }
          ],
          "scatterternary": [
           {
            "marker": {
             "colorbar": {
              "outlinewidth": 1,
              "tickcolor": "rgb(36,36,36)",
              "ticks": "outside"
             }
            },
            "type": "scatterternary"
           }
          ],
          "surface": [
           {
            "colorbar": {
             "outlinewidth": 1,
             "tickcolor": "rgb(36,36,36)",
             "ticks": "outside"
            },
            "colorscale": [
             [
              0,
              "#440154"
             ],
             [
              0.1111111111111111,
              "#482878"
             ],
             [
              0.2222222222222222,
              "#3e4989"
             ],
             [
              0.3333333333333333,
              "#31688e"
             ],
             [
              0.4444444444444444,
              "#26828e"
             ],
             [
              0.5555555555555556,
              "#1f9e89"
             ],
             [
              0.6666666666666666,
              "#35b779"
             ],
             [
              0.7777777777777778,
              "#6ece58"
             ],
             [
              0.8888888888888888,
              "#b5de2b"
             ],
             [
              1,
              "#fde725"
             ]
            ],
            "type": "surface"
           }
          ],
          "table": [
           {
            "cells": {
             "fill": {
              "color": "rgb(237,237,237)"
             },
             "line": {
              "color": "white"
             }
            },
            "header": {
             "fill": {
              "color": "rgb(217,217,217)"
             },
             "line": {
              "color": "white"
             }
            },
            "type": "table"
           }
          ]
         },
         "layout": {
          "annotationdefaults": {
           "arrowhead": 0,
           "arrowwidth": 1
          },
          "autotypenumbers": "strict",
          "coloraxis": {
           "colorbar": {
            "outlinewidth": 1,
            "tickcolor": "rgb(36,36,36)",
            "ticks": "outside"
           }
          },
          "colorscale": {
           "diverging": [
            [
             0,
             "rgb(103,0,31)"
            ],
            [
             0.1,
             "rgb(178,24,43)"
            ],
            [
             0.2,
             "rgb(214,96,77)"
            ],
            [
             0.3,
             "rgb(244,165,130)"
            ],
            [
             0.4,
             "rgb(253,219,199)"
            ],
            [
             0.5,
             "rgb(247,247,247)"
            ],
            [
             0.6,
             "rgb(209,229,240)"
            ],
            [
             0.7,
             "rgb(146,197,222)"
            ],
            [
             0.8,
             "rgb(67,147,195)"
            ],
            [
             0.9,
             "rgb(33,102,172)"
            ],
            [
             1,
             "rgb(5,48,97)"
            ]
           ],
           "sequential": [
            [
             0,
             "#440154"
            ],
            [
             0.1111111111111111,
             "#482878"
            ],
            [
             0.2222222222222222,
             "#3e4989"
            ],
            [
             0.3333333333333333,
             "#31688e"
            ],
            [
             0.4444444444444444,
             "#26828e"
            ],
            [
             0.5555555555555556,
             "#1f9e89"
            ],
            [
             0.6666666666666666,
             "#35b779"
            ],
            [
             0.7777777777777778,
             "#6ece58"
            ],
            [
             0.8888888888888888,
             "#b5de2b"
            ],
            [
             1,
             "#fde725"
            ]
           ],
           "sequentialminus": [
            [
             0,
             "#440154"
            ],
            [
             0.1111111111111111,
             "#482878"
            ],
            [
             0.2222222222222222,
             "#3e4989"
            ],
            [
             0.3333333333333333,
             "#31688e"
            ],
            [
             0.4444444444444444,
             "#26828e"
            ],
            [
             0.5555555555555556,
             "#1f9e89"
            ],
            [
             0.6666666666666666,
             "#35b779"
            ],
            [
             0.7777777777777778,
             "#6ece58"
            ],
            [
             0.8888888888888888,
             "#b5de2b"
            ],
            [
             1,
             "#fde725"
            ]
           ]
          },
          "colorway": [
           "#1F77B4",
           "#FF7F0E",
           "#2CA02C",
           "#D62728",
           "#9467BD",
           "#8C564B",
           "#E377C2",
           "#7F7F7F",
           "#BCBD22",
           "#17BECF"
          ],
          "font": {
           "color": "rgb(36,36,36)"
          },
          "geo": {
           "bgcolor": "white",
           "lakecolor": "white",
           "landcolor": "white",
           "showlakes": true,
           "showland": true,
           "subunitcolor": "white"
          },
          "hoverlabel": {
           "align": "left"
          },
          "hovermode": "closest",
          "mapbox": {
           "style": "light"
          },
          "paper_bgcolor": "white",
          "plot_bgcolor": "white",
          "polar": {
           "angularaxis": {
            "gridcolor": "rgb(232,232,232)",
            "linecolor": "rgb(36,36,36)",
            "showgrid": false,
            "showline": true,
            "ticks": "outside"
           },
           "bgcolor": "white",
           "radialaxis": {
            "gridcolor": "rgb(232,232,232)",
            "linecolor": "rgb(36,36,36)",
            "showgrid": false,
            "showline": true,
            "ticks": "outside"
           }
          },
          "scene": {
           "xaxis": {
            "backgroundcolor": "white",
            "gridcolor": "rgb(232,232,232)",
            "gridwidth": 2,
            "linecolor": "rgb(36,36,36)",
            "showbackground": true,
            "showgrid": false,
            "showline": true,
            "ticks": "outside",
            "zeroline": false,
            "zerolinecolor": "rgb(36,36,36)"
           },
           "yaxis": {
            "backgroundcolor": "white",
            "gridcolor": "rgb(232,232,232)",
            "gridwidth": 2,
            "linecolor": "rgb(36,36,36)",
            "showbackground": true,
            "showgrid": false,
            "showline": true,
            "ticks": "outside",
            "zeroline": false,
            "zerolinecolor": "rgb(36,36,36)"
           },
           "zaxis": {
            "backgroundcolor": "white",
            "gridcolor": "rgb(232,232,232)",
            "gridwidth": 2,
            "linecolor": "rgb(36,36,36)",
            "showbackground": true,
            "showgrid": false,
            "showline": true,
            "ticks": "outside",
            "zeroline": false,
            "zerolinecolor": "rgb(36,36,36)"
           }
          },
          "shapedefaults": {
           "fillcolor": "black",
           "line": {
            "width": 0
           },
           "opacity": 0.3
          },
          "ternary": {
           "aaxis": {
            "gridcolor": "rgb(232,232,232)",
            "linecolor": "rgb(36,36,36)",
            "showgrid": false,
            "showline": true,
            "ticks": "outside"
           },
           "baxis": {
            "gridcolor": "rgb(232,232,232)",
            "linecolor": "rgb(36,36,36)",
            "showgrid": false,
            "showline": true,
            "ticks": "outside"
           },
           "bgcolor": "white",
           "caxis": {
            "gridcolor": "rgb(232,232,232)",
            "linecolor": "rgb(36,36,36)",
            "showgrid": false,
            "showline": true,
            "ticks": "outside"
           }
          },
          "title": {
           "x": 0.05
          },
          "xaxis": {
           "automargin": true,
           "gridcolor": "rgb(232,232,232)",
           "linecolor": "rgb(36,36,36)",
           "showgrid": false,
           "showline": true,
           "ticks": "outside",
           "title": {
            "standoff": 15
           },
           "zeroline": false,
           "zerolinecolor": "rgb(36,36,36)"
          },
          "yaxis": {
           "automargin": true,
           "gridcolor": "rgb(232,232,232)",
           "linecolor": "rgb(36,36,36)",
           "showgrid": false,
           "showline": true,
           "ticks": "outside",
           "title": {
            "standoff": 15
           },
           "zeroline": false,
           "zerolinecolor": "rgb(36,36,36)"
          }
         }
        },
        "title": {
         "font": {
          "color": "Black",
          "size": 22
         },
         "text": "<b>Intertopic Distance Map",
         "x": 0.5,
         "xanchor": "center",
         "y": 0.95,
         "yanchor": "top"
        },
        "width": 650,
        "xaxis": {
         "anchor": "y",
         "domain": [
          0,
          1
         ],
         "range": [
          -6.90853362083435,
          8.429825091362
         ],
         "title": {
          "text": ""
         },
         "visible": false
        },
        "yaxis": {
         "anchor": "x",
         "domain": [
          0,
          1
         ],
         "range": [
          -8.190173029899597,
          9.888489151000977
         ],
         "title": {
          "text": ""
         },
         "visible": false
        }
       }
      }
     },
     "metadata": {},
     "output_type": "display_data"
    }
   ],
   "source": [
    "topic_model.visualize_topics()"
   ]
  },
  {
   "cell_type": "code",
   "execution_count": 85,
   "metadata": {},
   "outputs": [
    {
     "name": "stderr",
     "output_type": "stream",
     "text": [
      "c:\\Users\\Risto Trajanov\\anaconda3\\envs\\myenv\\lib\\site-packages\\plotly\\io\\_renderers.py:395: DeprecationWarning:\n",
      "\n",
      "distutils Version classes are deprecated. Use packaging.version instead.\n",
      "\n",
      "c:\\Users\\Risto Trajanov\\anaconda3\\envs\\myenv\\lib\\site-packages\\plotly\\io\\_renderers.py:395: DeprecationWarning:\n",
      "\n",
      "distutils Version classes are deprecated. Use packaging.version instead.\n",
      "\n"
     ]
    },
    {
     "data": {
      "application/vnd.plotly.v1+json": {
       "config": {
        "plotlyServerURL": "https://plot.ly"
       },
       "data": [
        {
         "marker": {
          "color": "#D55E00"
         },
         "orientation": "h",
         "type": "bar",
         "x": [
          0.05102164600928496,
          0.07029287827291893,
          0.07029287827291893,
          0.08402055290031638,
          0.15157282619681783
         ],
         "xaxis": "x",
         "y": [
          "explosions  ",
          "woes  ",
          "highlights  ",
          "sabotage  ",
          "crimea  "
         ],
         "yaxis": "y"
        },
        {
         "marker": {
          "color": "#0072B2"
         },
         "orientation": "h",
         "type": "bar",
         "x": [
          0.04062967196874443,
          0.048070210770767716,
          0.04859814322275445,
          0.05234360477757561,
          0.06736760694376702
         ],
         "xaxis": "x2",
         "y": [
          "russian  ",
          "armed  ",
          "destroyed  ",
          "region  ",
          "forces  "
         ],
         "yaxis": "y2"
        },
        {
         "marker": {
          "color": "#CC79A7"
         },
         "orientation": "h",
         "type": "bar",
         "x": [
          0.03401223508462349,
          0.03697194250589021,
          0.04091840626855502,
          0.04175337720101519,
          0.04911133168524007
         ],
         "xaxis": "x3",
         "y": [
          "russias  ",
          "energy  ",
          "sanctions  ",
          "ukraine  ",
          "invasion  "
         ],
         "yaxis": "y3"
        },
        {
         "marker": {
          "color": "#E69F00"
         },
         "orientation": "h",
         "type": "bar",
         "x": [
          0.031179614704067916,
          0.03212380870191132,
          0.04115802505855601,
          0.04283174493588176,
          0.04408294850845925
         ],
         "xaxis": "x4",
         "y": [
          "want  ",
          "love  ",
          "music  ",
          "discover  ",
          "conflict  "
         ],
         "yaxis": "y4"
        },
        {
         "marker": {
          "color": "#56B4E9"
         },
         "orientation": "h",
         "type": "bar",
         "x": [
          0.04307183954311946,
          0.04994356566678741,
          0.052932323143350724,
          0.0576091667798436,
          0.07806467789034417
         ],
         "xaxis": "x5",
         "y": [
          "global  ",
          "world  ",
          "grain  ",
          "crisis  ",
          "food  "
         ],
         "yaxis": "y5"
        }
       ],
       "layout": {
        "annotations": [
         {
          "font": {
           "size": 16
          },
          "showarrow": false,
          "text": "Topic 0",
          "x": 0.0875,
          "xanchor": "center",
          "xref": "paper",
          "y": 1,
          "yanchor": "bottom",
          "yref": "paper"
         },
         {
          "font": {
           "size": 16
          },
          "showarrow": false,
          "text": "Topic 1",
          "x": 0.36250000000000004,
          "xanchor": "center",
          "xref": "paper",
          "y": 1,
          "yanchor": "bottom",
          "yref": "paper"
         },
         {
          "font": {
           "size": 16
          },
          "showarrow": false,
          "text": "Topic 2",
          "x": 0.6375000000000001,
          "xanchor": "center",
          "xref": "paper",
          "y": 1,
          "yanchor": "bottom",
          "yref": "paper"
         },
         {
          "font": {
           "size": 16
          },
          "showarrow": false,
          "text": "Topic 3",
          "x": 0.9125,
          "xanchor": "center",
          "xref": "paper",
          "y": 1,
          "yanchor": "bottom",
          "yref": "paper"
         },
         {
          "font": {
           "size": 16
          },
          "showarrow": false,
          "text": "Topic 4",
          "x": 0.0875,
          "xanchor": "center",
          "xref": "paper",
          "y": 0.4,
          "yanchor": "bottom",
          "yref": "paper"
         }
        ],
        "height": 500,
        "hoverlabel": {
         "bgcolor": "white",
         "font": {
          "family": "Rockwell",
          "size": 16
         }
        },
        "showlegend": false,
        "template": {
         "data": {
          "bar": [
           {
            "error_x": {
             "color": "#2a3f5f"
            },
            "error_y": {
             "color": "#2a3f5f"
            },
            "marker": {
             "line": {
              "color": "white",
              "width": 0.5
             },
             "pattern": {
              "fillmode": "overlay",
              "size": 10,
              "solidity": 0.2
             }
            },
            "type": "bar"
           }
          ],
          "barpolar": [
           {
            "marker": {
             "line": {
              "color": "white",
              "width": 0.5
             },
             "pattern": {
              "fillmode": "overlay",
              "size": 10,
              "solidity": 0.2
             }
            },
            "type": "barpolar"
           }
          ],
          "carpet": [
           {
            "aaxis": {
             "endlinecolor": "#2a3f5f",
             "gridcolor": "#C8D4E3",
             "linecolor": "#C8D4E3",
             "minorgridcolor": "#C8D4E3",
             "startlinecolor": "#2a3f5f"
            },
            "baxis": {
             "endlinecolor": "#2a3f5f",
             "gridcolor": "#C8D4E3",
             "linecolor": "#C8D4E3",
             "minorgridcolor": "#C8D4E3",
             "startlinecolor": "#2a3f5f"
            },
            "type": "carpet"
           }
          ],
          "choropleth": [
           {
            "colorbar": {
             "outlinewidth": 0,
             "ticks": ""
            },
            "type": "choropleth"
           }
          ],
          "contour": [
           {
            "colorbar": {
             "outlinewidth": 0,
             "ticks": ""
            },
            "colorscale": [
             [
              0,
              "#0d0887"
             ],
             [
              0.1111111111111111,
              "#46039f"
             ],
             [
              0.2222222222222222,
              "#7201a8"
             ],
             [
              0.3333333333333333,
              "#9c179e"
             ],
             [
              0.4444444444444444,
              "#bd3786"
             ],
             [
              0.5555555555555556,
              "#d8576b"
             ],
             [
              0.6666666666666666,
              "#ed7953"
             ],
             [
              0.7777777777777778,
              "#fb9f3a"
             ],
             [
              0.8888888888888888,
              "#fdca26"
             ],
             [
              1,
              "#f0f921"
             ]
            ],
            "type": "contour"
           }
          ],
          "contourcarpet": [
           {
            "colorbar": {
             "outlinewidth": 0,
             "ticks": ""
            },
            "type": "contourcarpet"
           }
          ],
          "heatmap": [
           {
            "colorbar": {
             "outlinewidth": 0,
             "ticks": ""
            },
            "colorscale": [
             [
              0,
              "#0d0887"
             ],
             [
              0.1111111111111111,
              "#46039f"
             ],
             [
              0.2222222222222222,
              "#7201a8"
             ],
             [
              0.3333333333333333,
              "#9c179e"
             ],
             [
              0.4444444444444444,
              "#bd3786"
             ],
             [
              0.5555555555555556,
              "#d8576b"
             ],
             [
              0.6666666666666666,
              "#ed7953"
             ],
             [
              0.7777777777777778,
              "#fb9f3a"
             ],
             [
              0.8888888888888888,
              "#fdca26"
             ],
             [
              1,
              "#f0f921"
             ]
            ],
            "type": "heatmap"
           }
          ],
          "heatmapgl": [
           {
            "colorbar": {
             "outlinewidth": 0,
             "ticks": ""
            },
            "colorscale": [
             [
              0,
              "#0d0887"
             ],
             [
              0.1111111111111111,
              "#46039f"
             ],
             [
              0.2222222222222222,
              "#7201a8"
             ],
             [
              0.3333333333333333,
              "#9c179e"
             ],
             [
              0.4444444444444444,
              "#bd3786"
             ],
             [
              0.5555555555555556,
              "#d8576b"
             ],
             [
              0.6666666666666666,
              "#ed7953"
             ],
             [
              0.7777777777777778,
              "#fb9f3a"
             ],
             [
              0.8888888888888888,
              "#fdca26"
             ],
             [
              1,
              "#f0f921"
             ]
            ],
            "type": "heatmapgl"
           }
          ],
          "histogram": [
           {
            "marker": {
             "pattern": {
              "fillmode": "overlay",
              "size": 10,
              "solidity": 0.2
             }
            },
            "type": "histogram"
           }
          ],
          "histogram2d": [
           {
            "colorbar": {
             "outlinewidth": 0,
             "ticks": ""
            },
            "colorscale": [
             [
              0,
              "#0d0887"
             ],
             [
              0.1111111111111111,
              "#46039f"
             ],
             [
              0.2222222222222222,
              "#7201a8"
             ],
             [
              0.3333333333333333,
              "#9c179e"
             ],
             [
              0.4444444444444444,
              "#bd3786"
             ],
             [
              0.5555555555555556,
              "#d8576b"
             ],
             [
              0.6666666666666666,
              "#ed7953"
             ],
             [
              0.7777777777777778,
              "#fb9f3a"
             ],
             [
              0.8888888888888888,
              "#fdca26"
             ],
             [
              1,
              "#f0f921"
             ]
            ],
            "type": "histogram2d"
           }
          ],
          "histogram2dcontour": [
           {
            "colorbar": {
             "outlinewidth": 0,
             "ticks": ""
            },
            "colorscale": [
             [
              0,
              "#0d0887"
             ],
             [
              0.1111111111111111,
              "#46039f"
             ],
             [
              0.2222222222222222,
              "#7201a8"
             ],
             [
              0.3333333333333333,
              "#9c179e"
             ],
             [
              0.4444444444444444,
              "#bd3786"
             ],
             [
              0.5555555555555556,
              "#d8576b"
             ],
             [
              0.6666666666666666,
              "#ed7953"
             ],
             [
              0.7777777777777778,
              "#fb9f3a"
             ],
             [
              0.8888888888888888,
              "#fdca26"
             ],
             [
              1,
              "#f0f921"
             ]
            ],
            "type": "histogram2dcontour"
           }
          ],
          "mesh3d": [
           {
            "colorbar": {
             "outlinewidth": 0,
             "ticks": ""
            },
            "type": "mesh3d"
           }
          ],
          "parcoords": [
           {
            "line": {
             "colorbar": {
              "outlinewidth": 0,
              "ticks": ""
             }
            },
            "type": "parcoords"
           }
          ],
          "pie": [
           {
            "automargin": true,
            "type": "pie"
           }
          ],
          "scatter": [
           {
            "fillpattern": {
             "fillmode": "overlay",
             "size": 10,
             "solidity": 0.2
            },
            "type": "scatter"
           }
          ],
          "scatter3d": [
           {
            "line": {
             "colorbar": {
              "outlinewidth": 0,
              "ticks": ""
             }
            },
            "marker": {
             "colorbar": {
              "outlinewidth": 0,
              "ticks": ""
             }
            },
            "type": "scatter3d"
           }
          ],
          "scattercarpet": [
           {
            "marker": {
             "colorbar": {
              "outlinewidth": 0,
              "ticks": ""
             }
            },
            "type": "scattercarpet"
           }
          ],
          "scattergeo": [
           {
            "marker": {
             "colorbar": {
              "outlinewidth": 0,
              "ticks": ""
             }
            },
            "type": "scattergeo"
           }
          ],
          "scattergl": [
           {
            "marker": {
             "colorbar": {
              "outlinewidth": 0,
              "ticks": ""
             }
            },
            "type": "scattergl"
           }
          ],
          "scattermapbox": [
           {
            "marker": {
             "colorbar": {
              "outlinewidth": 0,
              "ticks": ""
             }
            },
            "type": "scattermapbox"
           }
          ],
          "scatterpolar": [
           {
            "marker": {
             "colorbar": {
              "outlinewidth": 0,
              "ticks": ""
             }
            },
            "type": "scatterpolar"
           }
          ],
          "scatterpolargl": [
           {
            "marker": {
             "colorbar": {
              "outlinewidth": 0,
              "ticks": ""
             }
            },
            "type": "scatterpolargl"
           }
          ],
          "scatterternary": [
           {
            "marker": {
             "colorbar": {
              "outlinewidth": 0,
              "ticks": ""
             }
            },
            "type": "scatterternary"
           }
          ],
          "surface": [
           {
            "colorbar": {
             "outlinewidth": 0,
             "ticks": ""
            },
            "colorscale": [
             [
              0,
              "#0d0887"
             ],
             [
              0.1111111111111111,
              "#46039f"
             ],
             [
              0.2222222222222222,
              "#7201a8"
             ],
             [
              0.3333333333333333,
              "#9c179e"
             ],
             [
              0.4444444444444444,
              "#bd3786"
             ],
             [
              0.5555555555555556,
              "#d8576b"
             ],
             [
              0.6666666666666666,
              "#ed7953"
             ],
             [
              0.7777777777777778,
              "#fb9f3a"
             ],
             [
              0.8888888888888888,
              "#fdca26"
             ],
             [
              1,
              "#f0f921"
             ]
            ],
            "type": "surface"
           }
          ],
          "table": [
           {
            "cells": {
             "fill": {
              "color": "#EBF0F8"
             },
             "line": {
              "color": "white"
             }
            },
            "header": {
             "fill": {
              "color": "#C8D4E3"
             },
             "line": {
              "color": "white"
             }
            },
            "type": "table"
           }
          ]
         },
         "layout": {
          "annotationdefaults": {
           "arrowcolor": "#2a3f5f",
           "arrowhead": 0,
           "arrowwidth": 1
          },
          "autotypenumbers": "strict",
          "coloraxis": {
           "colorbar": {
            "outlinewidth": 0,
            "ticks": ""
           }
          },
          "colorscale": {
           "diverging": [
            [
             0,
             "#8e0152"
            ],
            [
             0.1,
             "#c51b7d"
            ],
            [
             0.2,
             "#de77ae"
            ],
            [
             0.3,
             "#f1b6da"
            ],
            [
             0.4,
             "#fde0ef"
            ],
            [
             0.5,
             "#f7f7f7"
            ],
            [
             0.6,
             "#e6f5d0"
            ],
            [
             0.7,
             "#b8e186"
            ],
            [
             0.8,
             "#7fbc41"
            ],
            [
             0.9,
             "#4d9221"
            ],
            [
             1,
             "#276419"
            ]
           ],
           "sequential": [
            [
             0,
             "#0d0887"
            ],
            [
             0.1111111111111111,
             "#46039f"
            ],
            [
             0.2222222222222222,
             "#7201a8"
            ],
            [
             0.3333333333333333,
             "#9c179e"
            ],
            [
             0.4444444444444444,
             "#bd3786"
            ],
            [
             0.5555555555555556,
             "#d8576b"
            ],
            [
             0.6666666666666666,
             "#ed7953"
            ],
            [
             0.7777777777777778,
             "#fb9f3a"
            ],
            [
             0.8888888888888888,
             "#fdca26"
            ],
            [
             1,
             "#f0f921"
            ]
           ],
           "sequentialminus": [
            [
             0,
             "#0d0887"
            ],
            [
             0.1111111111111111,
             "#46039f"
            ],
            [
             0.2222222222222222,
             "#7201a8"
            ],
            [
             0.3333333333333333,
             "#9c179e"
            ],
            [
             0.4444444444444444,
             "#bd3786"
            ],
            [
             0.5555555555555556,
             "#d8576b"
            ],
            [
             0.6666666666666666,
             "#ed7953"
            ],
            [
             0.7777777777777778,
             "#fb9f3a"
            ],
            [
             0.8888888888888888,
             "#fdca26"
            ],
            [
             1,
             "#f0f921"
            ]
           ]
          },
          "colorway": [
           "#636efa",
           "#EF553B",
           "#00cc96",
           "#ab63fa",
           "#FFA15A",
           "#19d3f3",
           "#FF6692",
           "#B6E880",
           "#FF97FF",
           "#FECB52"
          ],
          "font": {
           "color": "#2a3f5f"
          },
          "geo": {
           "bgcolor": "white",
           "lakecolor": "white",
           "landcolor": "white",
           "showlakes": true,
           "showland": true,
           "subunitcolor": "#C8D4E3"
          },
          "hoverlabel": {
           "align": "left"
          },
          "hovermode": "closest",
          "mapbox": {
           "style": "light"
          },
          "paper_bgcolor": "white",
          "plot_bgcolor": "white",
          "polar": {
           "angularaxis": {
            "gridcolor": "#EBF0F8",
            "linecolor": "#EBF0F8",
            "ticks": ""
           },
           "bgcolor": "white",
           "radialaxis": {
            "gridcolor": "#EBF0F8",
            "linecolor": "#EBF0F8",
            "ticks": ""
           }
          },
          "scene": {
           "xaxis": {
            "backgroundcolor": "white",
            "gridcolor": "#DFE8F3",
            "gridwidth": 2,
            "linecolor": "#EBF0F8",
            "showbackground": true,
            "ticks": "",
            "zerolinecolor": "#EBF0F8"
           },
           "yaxis": {
            "backgroundcolor": "white",
            "gridcolor": "#DFE8F3",
            "gridwidth": 2,
            "linecolor": "#EBF0F8",
            "showbackground": true,
            "ticks": "",
            "zerolinecolor": "#EBF0F8"
           },
           "zaxis": {
            "backgroundcolor": "white",
            "gridcolor": "#DFE8F3",
            "gridwidth": 2,
            "linecolor": "#EBF0F8",
            "showbackground": true,
            "ticks": "",
            "zerolinecolor": "#EBF0F8"
           }
          },
          "shapedefaults": {
           "line": {
            "color": "#2a3f5f"
           }
          },
          "ternary": {
           "aaxis": {
            "gridcolor": "#DFE8F3",
            "linecolor": "#A2B1C6",
            "ticks": ""
           },
           "baxis": {
            "gridcolor": "#DFE8F3",
            "linecolor": "#A2B1C6",
            "ticks": ""
           },
           "bgcolor": "white",
           "caxis": {
            "gridcolor": "#DFE8F3",
            "linecolor": "#A2B1C6",
            "ticks": ""
           }
          },
          "title": {
           "x": 0.05
          },
          "xaxis": {
           "automargin": true,
           "gridcolor": "#EBF0F8",
           "linecolor": "#EBF0F8",
           "ticks": "",
           "title": {
            "standoff": 15
           },
           "zerolinecolor": "#EBF0F8",
           "zerolinewidth": 2
          },
          "yaxis": {
           "automargin": true,
           "gridcolor": "#EBF0F8",
           "linecolor": "#EBF0F8",
           "ticks": "",
           "title": {
            "standoff": 15
           },
           "zerolinecolor": "#EBF0F8",
           "zerolinewidth": 2
          }
         }
        },
        "title": {
         "font": {
          "color": "Black",
          "size": 22
         },
         "text": "<b>Topic Word Scores",
         "x": 0.5,
         "xanchor": "center",
         "yanchor": "top"
        },
        "width": 1000,
        "xaxis": {
         "anchor": "y",
         "domain": [
          0,
          0.175
         ],
         "showgrid": true
        },
        "xaxis2": {
         "anchor": "y2",
         "domain": [
          0.275,
          0.45
         ],
         "showgrid": true
        },
        "xaxis3": {
         "anchor": "y3",
         "domain": [
          0.55,
          0.7250000000000001
         ],
         "showgrid": true
        },
        "xaxis4": {
         "anchor": "y4",
         "domain": [
          0.825,
          1
         ],
         "showgrid": true
        },
        "xaxis5": {
         "anchor": "y5",
         "domain": [
          0,
          0.175
         ],
         "showgrid": true
        },
        "xaxis6": {
         "anchor": "y6",
         "domain": [
          0.275,
          0.45
         ],
         "showgrid": true
        },
        "xaxis7": {
         "anchor": "y7",
         "domain": [
          0.55,
          0.7250000000000001
         ],
         "showgrid": true
        },
        "xaxis8": {
         "anchor": "y8",
         "domain": [
          0.825,
          1
         ],
         "showgrid": true
        },
        "yaxis": {
         "anchor": "x",
         "domain": [
          0.6000000000000001,
          1
         ],
         "showgrid": true
        },
        "yaxis2": {
         "anchor": "x2",
         "domain": [
          0.6000000000000001,
          1
         ],
         "showgrid": true
        },
        "yaxis3": {
         "anchor": "x3",
         "domain": [
          0.6000000000000001,
          1
         ],
         "showgrid": true
        },
        "yaxis4": {
         "anchor": "x4",
         "domain": [
          0.6000000000000001,
          1
         ],
         "showgrid": true
        },
        "yaxis5": {
         "anchor": "x5",
         "domain": [
          0,
          0.4
         ],
         "showgrid": true
        },
        "yaxis6": {
         "anchor": "x6",
         "domain": [
          0,
          0.4
         ],
         "showgrid": true
        },
        "yaxis7": {
         "anchor": "x7",
         "domain": [
          0,
          0.4
         ],
         "showgrid": true
        },
        "yaxis8": {
         "anchor": "x8",
         "domain": [
          0,
          0.4
         ],
         "showgrid": true
        }
       }
      }
     },
     "metadata": {},
     "output_type": "display_data"
    }
   ],
   "source": [
    "topic_model.visualize_barchart(top_n_topics=5)"
   ]
  },
  {
   "cell_type": "markdown",
   "metadata": {},
   "source": [
    "# Sentiment"
   ]
  },
  {
   "cell_type": "code",
   "execution_count": 114,
   "metadata": {},
   "outputs": [],
   "source": [
    "from textblob import TextBlob"
   ]
  },
  {
   "cell_type": "code",
   "execution_count": 126,
   "metadata": {},
   "outputs": [],
   "source": [
    "def get_sentiment(text):\n",
    "    score = TextBlob(text).sentiment.polarity\n",
    "    if score < -0.1:\n",
    "        return 'Negative'\n",
    "    elif score > 0.1:\n",
    "        return 'Positive'\n",
    "    else:\n",
    "        return 'Neutral'"
   ]
  },
  {
   "cell_type": "code",
   "execution_count": 117,
   "metadata": {},
   "outputs": [],
   "source": [
    "df = df[df['tweet_clean'].notna()]"
   ]
  },
  {
   "cell_type": "code",
   "execution_count": 127,
   "metadata": {},
   "outputs": [],
   "source": [
    "sent = []\n",
    "for tweet in df['tweet_clean'].tolist():\n",
    "    # print(tweet)\n",
    "    sent.append(get_sentiment(tweet))"
   ]
  },
  {
   "cell_type": "code",
   "execution_count": 128,
   "metadata": {},
   "outputs": [
    {
     "name": "stderr",
     "output_type": "stream",
     "text": [
      "c:\\Users\\Risto Trajanov\\anaconda3\\envs\\myenv\\lib\\site-packages\\ipykernel_launcher.py:1: SettingWithCopyWarning: \n",
      "A value is trying to be set on a copy of a slice from a DataFrame.\n",
      "Try using .loc[row_indexer,col_indexer] = value instead\n",
      "\n",
      "See the caveats in the documentation: https://pandas.pydata.org/pandas-docs/stable/user_guide/indexing.html#returning-a-view-versus-a-copy\n",
      "  \"\"\"Entry point for launching an IPython kernel.\n"
     ]
    }
   ],
   "source": [
    "df['sentiment'] = sent"
   ]
  },
  {
   "cell_type": "code",
   "execution_count": 129,
   "metadata": {},
   "outputs": [
    {
     "data": {
      "image/png": "[encoded data removed]",
      "text/plain": [
       "<Figure size 432x360 with 1 Axes>"
      ]
     },
     "metadata": {
      "needs_background": "light"
     },
     "output_type": "display_data"
    },
    {
     "data": {
      "image/png": "[encoded data removed]",
      "text/plain": [
       "<Figure size 432x360 with 1 Axes>"
      ]
     },
     "metadata": {
      "needs_background": "light"
     },
     "output_type": "display_data"
    },
    {
     "data": {
      "image/png": "[encoded data removed]",
      "text/plain": [
       "<Figure size 432x360 with 1 Axes>"
      ]
     },
     "metadata": {
      "needs_background": "light"
     },
     "output_type": "display_data"
    },
    {
     "data": {
      "image/png": "[encoded data removed]",
      "text/plain": [
       "<Figure size 432x360 with 1 Axes>"
      ]
     },
     "metadata": {
      "needs_background": "light"
     },
     "output_type": "display_data"
    },
    {
     "data": {
      "image/png": "[encoded data removed]",
      "text/plain": [
       "<Figure size 432x360 with 1 Axes>"
      ]
     },
     "metadata": {
      "needs_background": "light"
     },
     "output_type": "display_data"
    },
    {
     "data": {
      "image/png": "[encoded data removed]",
      "text/plain": [
       "<Figure size 432x360 with 1 Axes>"
      ]
     },
     "metadata": {
      "needs_background": "light"
     },
     "output_type": "display_data"
    },
    {
     "data": {
      "image/png": "[encoded data removed]",
      "text/plain": [
       "<Figure size 432x360 with 1 Axes>"
      ]
     },
     "metadata": {
      "needs_background": "light"
     },
     "output_type": "display_data"
    }
   ],
   "source": [
    "import matplotlib.pyplot as plt\n",
    "# fig = plt.figure(figsize=(10, 8))\n",
    "for country in countries:\n",
    "    df_process = df[df['countries'] == country]\n",
    "    dfg = df_process.groupby(['sentiment'])['tweet_clean'].count()\n",
    "    # Plot\n",
    "    # print(dfg)\n",
    "    # if not dfg.empty:\n",
    "    dfg.plot(kind='bar', title=f'{country}', ylabel='Sentiment', xlabel='Count', figsize=(6, 5))\n",
    "    plt.show()"
   ]
  },
  {
   "cell_type": "code",
   "execution_count": null,
   "metadata": {},
   "outputs": [],
   "source": []
  }
 ],
 "metadata": {
  "kernelspec": {
   "display_name": "Python 3.7.13 ('myenv')",
   "language": "python",
   "name": "python3"
  },
  "language_info": {
   "codemirror_mode": {
    "name": "ipython",
    "version": 3
   },
   "file_extension": ".py",
   "mimetype": "text/x-python",
   "name": "python",
   "nbconvert_exporter": "python",
   "pygments_lexer": "ipython3",
   "version": "3.7.13"
  },
  "orig_nbformat": 4,
  "vscode": {
   "interpreter": {
    "hash": "09ac0f642c4809c63ace70dc888cbd5b35159287af3895fb76989324c78b2f31"
   }
  }
 },
 "nbformat": 4,
 "nbformat_minor": 2
}
